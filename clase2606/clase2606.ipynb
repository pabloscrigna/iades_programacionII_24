{
  "nbformat": 4,
  "nbformat_minor": 0,
  "metadata": {
    "colab": {
      "provenance": []
    },
    "kernelspec": {
      "name": "python3",
      "display_name": "Python 3"
    },
    "language_info": {
      "name": "python"
    }
  },
  "cells": [
    {
      "cell_type": "markdown",
      "source": [
        "Funciones lambda"
      ],
      "metadata": {
        "id": "PDwLyg5r8PIP"
      }
    },
    {
      "cell_type": "markdown",
      "source": [
        "Son funciones anónimas y pequeñas, definidas con la palabra clave lambda. Son útiles para operaciones sencillas y rápidas donde una función completa con def sería excesiva"
      ],
      "metadata": {
        "id": "d24IZKcr8ZjP"
      }
    },
    {
      "cell_type": "markdown",
      "source": [
        "Sintaxis\n",
        "\n",
        "- lambda argumentos: expresion\n",
        "\n",
        "- expresion: una expresion es algo que se evalua y retorna un resultado"
      ],
      "metadata": {
        "id": "v-1yHZHL8fUk"
      }
    },
    {
      "cell_type": "code",
      "execution_count": null,
      "metadata": {
        "id": "utdDb5qo7Tw-"
      },
      "outputs": [],
      "source": [
        "# funcion que le paso como argumento x y retorna x + 1\n",
        "inc_lam = lambda x: x + 1"
      ]
    },
    {
      "cell_type": "code",
      "source": [
        "def incrementador(x):\n",
        "  return x +1"
      ],
      "metadata": {
        "id": "R-cmLf4z9SMi"
      },
      "execution_count": null,
      "outputs": []
    },
    {
      "cell_type": "code",
      "source": [
        "inc_lam(5)"
      ],
      "metadata": {
        "colab": {
          "base_uri": "https://localhost:8080/"
        },
        "id": "XOL6ymzw9FCc",
        "outputId": "8721d5ab-5b3f-432c-d449-bb32410d8c1b"
      },
      "execution_count": null,
      "outputs": [
        {
          "output_type": "execute_result",
          "data": {
            "text/plain": [
              "6"
            ]
          },
          "metadata": {},
          "execution_count": 6
        }
      ]
    },
    {
      "cell_type": "code",
      "source": [
        "inc_lam(7)"
      ],
      "metadata": {
        "colab": {
          "base_uri": "https://localhost:8080/"
        },
        "id": "op2ZIVnR9Y4h",
        "outputId": "60f49e30-93e8-4687-fcfd-940f9226b902"
      },
      "execution_count": null,
      "outputs": [
        {
          "output_type": "execute_result",
          "data": {
            "text/plain": [
              "8"
            ]
          },
          "metadata": {},
          "execution_count": 7
        }
      ]
    },
    {
      "cell_type": "code",
      "source": [
        "# funcion lambda que tome dos argumentos x, y y retorne la suma de ambos ( x + y)\n",
        "\n",
        "suma_lam = lambda x,y: x + y"
      ],
      "metadata": {
        "id": "oyvq9KED9daz"
      },
      "execution_count": null,
      "outputs": []
    },
    {
      "cell_type": "code",
      "source": [
        "suma_lam(5,7)"
      ],
      "metadata": {
        "colab": {
          "base_uri": "https://localhost:8080/"
        },
        "id": "Fui_pWVr99_C",
        "outputId": "d2d93f10-05b7-4bde-f2f5-c0d8c9ef96dd"
      },
      "execution_count": null,
      "outputs": [
        {
          "output_type": "execute_result",
          "data": {
            "text/plain": [
              "12"
            ]
          },
          "metadata": {},
          "execution_count": 9
        }
      ]
    },
    {
      "cell_type": "code",
      "source": [
        "suma_lam(1,2)"
      ],
      "metadata": {
        "colab": {
          "base_uri": "https://localhost:8080/"
        },
        "id": "GLITRUXT-BSC",
        "outputId": "e958fdef-bb16-4956-9d44-3c154e8a3b36"
      },
      "execution_count": null,
      "outputs": [
        {
          "output_type": "execute_result",
          "data": {
            "text/plain": [
              "3"
            ]
          },
          "metadata": {},
          "execution_count": 10
        }
      ]
    },
    {
      "cell_type": "markdown",
      "source": [
        "Funcion map"
      ],
      "metadata": {
        "id": "VMEdfHnG-FCW"
      }
    },
    {
      "cell_type": "code",
      "source": [
        "vocales_min = [\"a\", \"e\", \"i\", \"o\", \"u\"]"
      ],
      "metadata": {
        "id": "hkrmxyzY-Jlr"
      },
      "execution_count": null,
      "outputs": []
    },
    {
      "cell_type": "code",
      "source": [
        "vocales_min"
      ],
      "metadata": {
        "colab": {
          "base_uri": "https://localhost:8080/"
        },
        "id": "eJkbbo-S-Zqp",
        "outputId": "ec39c675-3d76-4008-82ae-445ef489041d"
      },
      "execution_count": null,
      "outputs": [
        {
          "output_type": "execute_result",
          "data": {
            "text/plain": [
              "['a', 'e', 'i', 'o', 'u']"
            ]
          },
          "metadata": {},
          "execution_count": 13
        }
      ]
    },
    {
      "cell_type": "code",
      "source": [
        "type(\"\")"
      ],
      "metadata": {
        "colab": {
          "base_uri": "https://localhost:8080/"
        },
        "id": "0mU9T0rT-UVB",
        "outputId": "3e7ae43c-335a-4fde-d80a-db5dbbfdab5e"
      },
      "execution_count": null,
      "outputs": [
        {
          "output_type": "execute_result",
          "data": {
            "text/plain": [
              "str"
            ]
          },
          "metadata": {},
          "execution_count": 14
        }
      ]
    },
    {
      "cell_type": "code",
      "source": [
        "dir(str)"
      ],
      "metadata": {
        "id": "AU-ybPke-ne8"
      },
      "execution_count": null,
      "outputs": []
    },
    {
      "cell_type": "code",
      "source": [
        "dir(\"\")"
      ],
      "metadata": {
        "colab": {
          "base_uri": "https://localhost:8080/"
        },
        "id": "552kdSYl-sLg",
        "outputId": "4c90b599-1517-4690-9ddb-a4c238900327"
      },
      "execution_count": null,
      "outputs": [
        {
          "output_type": "execute_result",
          "data": {
            "text/plain": [
              "['__add__',\n",
              " '__class__',\n",
              " '__contains__',\n",
              " '__delattr__',\n",
              " '__dir__',\n",
              " '__doc__',\n",
              " '__eq__',\n",
              " '__format__',\n",
              " '__ge__',\n",
              " '__getattribute__',\n",
              " '__getitem__',\n",
              " '__getnewargs__',\n",
              " '__gt__',\n",
              " '__hash__',\n",
              " '__init__',\n",
              " '__init_subclass__',\n",
              " '__iter__',\n",
              " '__le__',\n",
              " '__len__',\n",
              " '__lt__',\n",
              " '__mod__',\n",
              " '__mul__',\n",
              " '__ne__',\n",
              " '__new__',\n",
              " '__reduce__',\n",
              " '__reduce_ex__',\n",
              " '__repr__',\n",
              " '__rmod__',\n",
              " '__rmul__',\n",
              " '__setattr__',\n",
              " '__sizeof__',\n",
              " '__str__',\n",
              " '__subclasshook__',\n",
              " 'capitalize',\n",
              " 'casefold',\n",
              " 'center',\n",
              " 'count',\n",
              " 'encode',\n",
              " 'endswith',\n",
              " 'expandtabs',\n",
              " 'find',\n",
              " 'format',\n",
              " 'format_map',\n",
              " 'index',\n",
              " 'isalnum',\n",
              " 'isalpha',\n",
              " 'isascii',\n",
              " 'isdecimal',\n",
              " 'isdigit',\n",
              " 'isidentifier',\n",
              " 'islower',\n",
              " 'isnumeric',\n",
              " 'isprintable',\n",
              " 'isspace',\n",
              " 'istitle',\n",
              " 'isupper',\n",
              " 'join',\n",
              " 'ljust',\n",
              " 'lower',\n",
              " 'lstrip',\n",
              " 'maketrans',\n",
              " 'partition',\n",
              " 'removeprefix',\n",
              " 'removesuffix',\n",
              " 'replace',\n",
              " 'rfind',\n",
              " 'rindex',\n",
              " 'rjust',\n",
              " 'rpartition',\n",
              " 'rsplit',\n",
              " 'rstrip',\n",
              " 'split',\n",
              " 'splitlines',\n",
              " 'startswith',\n",
              " 'strip',\n",
              " 'swapcase',\n",
              " 'title',\n",
              " 'translate',\n",
              " 'upper',\n",
              " 'zfill']"
            ]
          },
          "metadata": {},
          "execution_count": 16
        }
      ]
    },
    {
      "cell_type": "code",
      "source": [
        "help(str.upper)"
      ],
      "metadata": {
        "colab": {
          "base_uri": "https://localhost:8080/"
        },
        "id": "0hcKIu3T-x0V",
        "outputId": "a9a1c7db-3f3d-4a43-af29-5b635fbb0d7e"
      },
      "execution_count": null,
      "outputs": [
        {
          "output_type": "stream",
          "name": "stdout",
          "text": [
            "Help on method_descriptor:\n",
            "\n",
            "upper(self, /)\n",
            "    Return a copy of the string converted to uppercase.\n",
            "\n"
          ]
        }
      ]
    },
    {
      "cell_type": "code",
      "source": [
        "\"a\".upper()"
      ],
      "metadata": {
        "colab": {
          "base_uri": "https://localhost:8080/",
          "height": 35
        },
        "id": "xK62Y3vT-4WP",
        "outputId": "e7328bb3-4892-4bc7-a969-db7d81a998da"
      },
      "execution_count": null,
      "outputs": [
        {
          "output_type": "execute_result",
          "data": {
            "text/plain": [
              "'A'"
            ],
            "application/vnd.google.colaboratory.intrinsic+json": {
              "type": "string"
            }
          },
          "metadata": {},
          "execution_count": 18
        }
      ]
    },
    {
      "cell_type": "code",
      "source": [
        "vocales_min = [\"a\", \"e\", \"i\", \"o\", \"u\"]"
      ],
      "metadata": {
        "id": "vZb33UQ9-9To"
      },
      "execution_count": null,
      "outputs": []
    },
    {
      "cell_type": "code",
      "source": [
        "type(vocales_min)"
      ],
      "metadata": {
        "colab": {
          "base_uri": "https://localhost:8080/"
        },
        "id": "FJl44sIP-_g8",
        "outputId": "79e9ccbd-0fc4-4961-b5a0-66d6edc8a83a"
      },
      "execution_count": null,
      "outputs": [
        {
          "output_type": "execute_result",
          "data": {
            "text/plain": [
              "list"
            ]
          },
          "metadata": {},
          "execution_count": 20
        }
      ]
    },
    {
      "cell_type": "code",
      "source": [
        "dir(list)"
      ],
      "metadata": {
        "id": "fiDq3r4R_G1B"
      },
      "execution_count": null,
      "outputs": []
    },
    {
      "cell_type": "code",
      "source": [
        "vocales_may = []\n",
        "\n",
        "for vocal in vocales_min:\n",
        "  print(vocal)\n",
        "  print(type(vocal))\n",
        "  print(vocal.upper())\n",
        "  vocales_may.append(vocal.upper())\n",
        "\n",
        "print(f\"las vocales mayu: {vocales_may}\")"
      ],
      "metadata": {
        "colab": {
          "base_uri": "https://localhost:8080/"
        },
        "id": "crfbXn_U_Nxt",
        "outputId": "e51f7b92-37bd-4e23-954e-3e679a76ec44"
      },
      "execution_count": null,
      "outputs": [
        {
          "output_type": "stream",
          "name": "stdout",
          "text": [
            "a\n",
            "<class 'str'>\n",
            "A\n",
            "e\n",
            "<class 'str'>\n",
            "E\n",
            "i\n",
            "<class 'str'>\n",
            "I\n",
            "o\n",
            "<class 'str'>\n",
            "O\n",
            "u\n",
            "<class 'str'>\n",
            "U\n",
            "las vocales mayu: ['A', 'E', 'I', 'O', 'U']\n"
          ]
        }
      ]
    },
    {
      "cell_type": "markdown",
      "source": [
        "funcion map:\n",
        "\n",
        "Se utiliza para aplicar una función a cada ítem de un iterable (como una lista, tupla, etc.) y devolver un nuevo iterable con los resultados. Es una manera eficiente y compacta de realizar operaciones en cada elemento de una colección."
      ],
      "metadata": {
        "id": "jqvd0skkAlmk"
      }
    },
    {
      "cell_type": "code",
      "source": [
        "vocales_min"
      ],
      "metadata": {
        "colab": {
          "base_uri": "https://localhost:8080/"
        },
        "id": "EfBuYzldAuXX",
        "outputId": "63e86805-e82a-4440-a874-59008bf02f84"
      },
      "execution_count": null,
      "outputs": [
        {
          "output_type": "execute_result",
          "data": {
            "text/plain": [
              "['a', 'e', 'i', 'o', 'u']"
            ]
          },
          "metadata": {},
          "execution_count": 29
        }
      ]
    },
    {
      "cell_type": "code",
      "source": [
        "vocales_may_map = map(str.upper, vocales_min)"
      ],
      "metadata": {
        "id": "Rd9bflwbAxPS"
      },
      "execution_count": null,
      "outputs": []
    },
    {
      "cell_type": "code",
      "source": [
        "vocales_may_map"
      ],
      "metadata": {
        "colab": {
          "base_uri": "https://localhost:8080/"
        },
        "id": "zTErwagrBH-P",
        "outputId": "6e3915d0-2203-40e0-83f4-7702dbe37f99"
      },
      "execution_count": null,
      "outputs": [
        {
          "output_type": "execute_result",
          "data": {
            "text/plain": [
              "<map at 0x7906fa6c3100>"
            ]
          },
          "metadata": {},
          "execution_count": 31
        }
      ]
    },
    {
      "cell_type": "code",
      "source": [
        "vocales_may_map = list(map(str.upper, vocales_min))"
      ],
      "metadata": {
        "id": "M5iyBtEeBRXP"
      },
      "execution_count": null,
      "outputs": []
    },
    {
      "cell_type": "code",
      "source": [
        "vocales_may_map"
      ],
      "metadata": {
        "colab": {
          "base_uri": "https://localhost:8080/"
        },
        "id": "C2xlywtNBUTF",
        "outputId": "366a7a44-e1c9-4726-a0c3-9aa80500ae4a"
      },
      "execution_count": null,
      "outputs": [
        {
          "output_type": "execute_result",
          "data": {
            "text/plain": [
              "['A', 'E', 'I', 'O', 'U']"
            ]
          },
          "metadata": {},
          "execution_count": 33
        }
      ]
    },
    {
      "cell_type": "code",
      "source": [
        "vocales_may_map = map(str.upper, vocales_min)"
      ],
      "metadata": {
        "id": "MO7BSsy7Bitg"
      },
      "execution_count": null,
      "outputs": []
    },
    {
      "cell_type": "code",
      "source": [
        "vocales_may_map"
      ],
      "metadata": {
        "colab": {
          "base_uri": "https://localhost:8080/"
        },
        "id": "7YjOwXdpBzz7",
        "outputId": "4e8103be-a0ed-4ada-dafd-e648cf435ef3"
      },
      "execution_count": null,
      "outputs": [
        {
          "output_type": "execute_result",
          "data": {
            "text/plain": [
              "<map at 0x7906dd9250f0>"
            ]
          },
          "metadata": {},
          "execution_count": 35
        }
      ]
    },
    {
      "cell_type": "code",
      "source": [
        "for foo in vocales_may_map:\n",
        "  print(foo)"
      ],
      "metadata": {
        "colab": {
          "base_uri": "https://localhost:8080/"
        },
        "id": "08XBIttRB2K2",
        "outputId": "4c989a50-f745-4abf-9511-66fccf490004"
      },
      "execution_count": null,
      "outputs": [
        {
          "output_type": "stream",
          "name": "stdout",
          "text": [
            "A\n",
            "E\n",
            "I\n",
            "O\n",
            "U\n"
          ]
        }
      ]
    },
    {
      "cell_type": "code",
      "source": [
        "def cuadrado(x):\n",
        "  return x * 2"
      ],
      "metadata": {
        "id": "OrcBuwOECB1M"
      },
      "execution_count": null,
      "outputs": []
    },
    {
      "cell_type": "code",
      "source": [
        "numeros = list(range(10))"
      ],
      "metadata": {
        "id": "nTuWoDqZDNtv"
      },
      "execution_count": null,
      "outputs": []
    },
    {
      "cell_type": "code",
      "source": [
        "numeros"
      ],
      "metadata": {
        "colab": {
          "base_uri": "https://localhost:8080/"
        },
        "id": "4_Bu55fqDSB5",
        "outputId": "664764ff-6ebe-4ebf-a772-a7b88cddc93b"
      },
      "execution_count": null,
      "outputs": [
        {
          "output_type": "execute_result",
          "data": {
            "text/plain": [
              "[0, 1, 2, 3, 4, 5, 6, 7, 8, 9]"
            ]
          },
          "metadata": {},
          "execution_count": 41
        }
      ]
    },
    {
      "cell_type": "code",
      "source": [
        "for numero in numeros:\n",
        "  print(cuadrado(numero))"
      ],
      "metadata": {
        "colab": {
          "base_uri": "https://localhost:8080/"
        },
        "id": "OOqU-IyoDeQP",
        "outputId": "65d93a4e-5ee3-450d-8ba9-3d68b05fe8af"
      },
      "execution_count": null,
      "outputs": [
        {
          "output_type": "stream",
          "name": "stdout",
          "text": [
            "0\n",
            "2\n",
            "4\n",
            "6\n",
            "8\n",
            "10\n",
            "12\n",
            "14\n",
            "16\n",
            "18\n"
          ]
        }
      ]
    },
    {
      "cell_type": "code",
      "source": [
        "numeros_2_map = list(map(cuadrado, numeros))"
      ],
      "metadata": {
        "id": "b9yWROMYDTuX"
      },
      "execution_count": null,
      "outputs": []
    },
    {
      "cell_type": "code",
      "source": [
        "numeros_2_map"
      ],
      "metadata": {
        "colab": {
          "base_uri": "https://localhost:8080/"
        },
        "id": "S-P1HMDwEAHQ",
        "outputId": "2025491d-f23e-4099-ce9f-7e69b0383b5a"
      },
      "execution_count": null,
      "outputs": [
        {
          "output_type": "execute_result",
          "data": {
            "text/plain": [
              "[0, 2, 4, 6, 8, 10, 12, 14, 16, 18]"
            ]
          },
          "metadata": {},
          "execution_count": 43
        }
      ]
    },
    {
      "cell_type": "code",
      "source": [
        "numeros"
      ],
      "metadata": {
        "colab": {
          "base_uri": "https://localhost:8080/"
        },
        "id": "y3RS83BKEUF6",
        "outputId": "c007da21-0b49-4d6d-cd10-0241e3f70733"
      },
      "execution_count": null,
      "outputs": [
        {
          "output_type": "execute_result",
          "data": {
            "text/plain": [
              "[0, 1, 2, 3, 4, 5, 6, 7, 8, 9]"
            ]
          },
          "metadata": {},
          "execution_count": 44
        }
      ]
    },
    {
      "cell_type": "code",
      "source": [
        "numeros_mas_1_map = list(map(lambda x:x+1, numeros))"
      ],
      "metadata": {
        "id": "I9uMQD7JEO6U"
      },
      "execution_count": null,
      "outputs": []
    },
    {
      "cell_type": "code",
      "source": [
        "numeros_mas_1_map"
      ],
      "metadata": {
        "colab": {
          "base_uri": "https://localhost:8080/"
        },
        "id": "e4H0tQk4Ed4J",
        "outputId": "6ef8ba5b-6fc5-45b3-8b2c-cbc4953b42bc"
      },
      "execution_count": null,
      "outputs": [
        {
          "output_type": "execute_result",
          "data": {
            "text/plain": [
              "[1, 2, 3, 4, 5, 6, 7, 8, 9, 10]"
            ]
          },
          "metadata": {},
          "execution_count": 46
        }
      ]
    },
    {
      "cell_type": "code",
      "source": [
        "numeros1 = [0,1,2,3]\n",
        "numeros2 = [2,3,4,5]"
      ],
      "metadata": {
        "id": "vpVe6DXhEnWG"
      },
      "execution_count": null,
      "outputs": []
    },
    {
      "cell_type": "code",
      "source": [
        "numeros3 = list(map(lambda a,b: a + b, numeros1, numeros2))"
      ],
      "metadata": {
        "id": "3JotfEsrEvUq"
      },
      "execution_count": null,
      "outputs": []
    },
    {
      "cell_type": "code",
      "source": [
        "print(numeros3)"
      ],
      "metadata": {
        "colab": {
          "base_uri": "https://localhost:8080/"
        },
        "id": "LwZKPpUzFK9_",
        "outputId": "2f137e8d-88c6-4103-d40e-3d398eef914f"
      },
      "execution_count": null,
      "outputs": [
        {
          "output_type": "stream",
          "name": "stdout",
          "text": [
            "[2, 4, 6, 8]\n"
          ]
        }
      ]
    },
    {
      "cell_type": "markdown",
      "source": [
        "filter:\n",
        "\n",
        "Es una función incorporada que se utiliza para construir un iterador (como un objeto filtro) a partir de aquellos elementos de un iterable (como una lista, tupla, etc.) para los cuales una función dada devuelve True."
      ],
      "metadata": {
        "id": "6yu1v1opFOS0"
      }
    },
    {
      "cell_type": "code",
      "source": [
        "lista_numeros = list(range(20))"
      ],
      "metadata": {
        "id": "G59_d07kFrbW"
      },
      "execution_count": null,
      "outputs": []
    },
    {
      "cell_type": "code",
      "source": [
        "lista_numeros"
      ],
      "metadata": {
        "colab": {
          "base_uri": "https://localhost:8080/"
        },
        "id": "WG-2zPvbF14C",
        "outputId": "b332fb42-ee96-4598-c692-e1e2a084eb5c"
      },
      "execution_count": null,
      "outputs": [
        {
          "output_type": "execute_result",
          "data": {
            "text/plain": [
              "[0, 1, 2, 3, 4, 5, 6, 7, 8, 9, 10, 11, 12, 13, 14, 15, 16, 17, 18, 19]"
            ]
          },
          "metadata": {},
          "execution_count": 52
        }
      ]
    },
    {
      "cell_type": "code",
      "source": [
        "def pares(numero):\n",
        "  return numero % 2 == 0"
      ],
      "metadata": {
        "id": "qN8Ft8pmF5pC"
      },
      "execution_count": null,
      "outputs": []
    },
    {
      "cell_type": "code",
      "source": [
        "7 % 2"
      ],
      "metadata": {
        "colab": {
          "base_uri": "https://localhost:8080/"
        },
        "id": "mDtAj0S_G1rC",
        "outputId": "abe104d9-0ec5-4508-b0cd-0b45090fd5b4"
      },
      "execution_count": null,
      "outputs": [
        {
          "output_type": "execute_result",
          "data": {
            "text/plain": [
              "1"
            ]
          },
          "metadata": {},
          "execution_count": 56
        }
      ]
    },
    {
      "cell_type": "code",
      "source": [
        "1 == 0"
      ],
      "metadata": {
        "colab": {
          "base_uri": "https://localhost:8080/"
        },
        "id": "YI86qjZXHBaJ",
        "outputId": "8761234d-8840-4dce-e5c7-a19ebd622de8"
      },
      "execution_count": null,
      "outputs": [
        {
          "output_type": "execute_result",
          "data": {
            "text/plain": [
              "False"
            ]
          },
          "metadata": {},
          "execution_count": 57
        }
      ]
    },
    {
      "cell_type": "code",
      "source": [
        "bool(1)"
      ],
      "metadata": {
        "colab": {
          "base_uri": "https://localhost:8080/"
        },
        "id": "Dc6Q_V9pHKxT",
        "outputId": "fdac879b-d3b7-4dcd-81d4-fcde210b5189"
      },
      "execution_count": null,
      "outputs": [
        {
          "output_type": "execute_result",
          "data": {
            "text/plain": [
              "True"
            ]
          },
          "metadata": {},
          "execution_count": 59
        }
      ]
    },
    {
      "cell_type": "code",
      "source": [
        "numeros_pares = list(filter(pares, lista_numeros))"
      ],
      "metadata": {
        "id": "G9Kp0Tz5GUss"
      },
      "execution_count": null,
      "outputs": []
    },
    {
      "cell_type": "code",
      "source": [
        "numeros_pares"
      ],
      "metadata": {
        "colab": {
          "base_uri": "https://localhost:8080/"
        },
        "id": "bxT1dXX2HVxe",
        "outputId": "587ee92f-5a76-4611-f813-b95b09106375"
      },
      "execution_count": null,
      "outputs": [
        {
          "output_type": "execute_result",
          "data": {
            "text/plain": [
              "[0, 2, 4, 6, 8, 10, 12, 14, 16, 18]"
            ]
          },
          "metadata": {},
          "execution_count": 61
        }
      ]
    },
    {
      "cell_type": "code",
      "source": [
        "numeros_pares_1 = list(filter(lambda x: x % 2 == 0, lista_numeros))"
      ],
      "metadata": {
        "id": "d5c3Ir5rHmBg"
      },
      "execution_count": null,
      "outputs": []
    },
    {
      "cell_type": "code",
      "source": [
        "numeros_pares_1"
      ],
      "metadata": {
        "colab": {
          "base_uri": "https://localhost:8080/"
        },
        "id": "ZI3xYBYLHu9M",
        "outputId": "03c6d820-ab98-474c-db15-37e40cf26c6a"
      },
      "execution_count": null,
      "outputs": [
        {
          "output_type": "execute_result",
          "data": {
            "text/plain": [
              "[0, 2, 4, 6, 8, 10, 12, 14, 16, 18]"
            ]
          },
          "metadata": {},
          "execution_count": 66
        }
      ]
    },
    {
      "cell_type": "markdown",
      "source": [
        "Generadores"
      ],
      "metadata": {
        "id": "RFACF3IQHhWR"
      }
    },
    {
      "cell_type": "markdown",
      "source": [
        "**Iterable**\n",
        "\n",
        "Un iterable es cualquier objeto en Python que implementa el método \\_\\_iter_\\_"
      ],
      "metadata": {
        "id": "1-i1fqR1IFpz"
      }
    },
    {
      "cell_type": "code",
      "source": [
        "dir(list)"
      ],
      "metadata": {
        "colab": {
          "base_uri": "https://localhost:8080/"
        },
        "id": "tf2x5TdrIn4w",
        "outputId": "284beb7b-d242-4b6f-fc5b-48b1d8d96ce9"
      },
      "execution_count": null,
      "outputs": [
        {
          "output_type": "execute_result",
          "data": {
            "text/plain": [
              "['__add__',\n",
              " '__class__',\n",
              " '__class_getitem__',\n",
              " '__contains__',\n",
              " '__delattr__',\n",
              " '__delitem__',\n",
              " '__dir__',\n",
              " '__doc__',\n",
              " '__eq__',\n",
              " '__format__',\n",
              " '__ge__',\n",
              " '__getattribute__',\n",
              " '__getitem__',\n",
              " '__gt__',\n",
              " '__hash__',\n",
              " '__iadd__',\n",
              " '__imul__',\n",
              " '__init__',\n",
              " '__init_subclass__',\n",
              " '__iter__',\n",
              " '__le__',\n",
              " '__len__',\n",
              " '__lt__',\n",
              " '__mul__',\n",
              " '__ne__',\n",
              " '__new__',\n",
              " '__reduce__',\n",
              " '__reduce_ex__',\n",
              " '__repr__',\n",
              " '__reversed__',\n",
              " '__rmul__',\n",
              " '__setattr__',\n",
              " '__setitem__',\n",
              " '__sizeof__',\n",
              " '__str__',\n",
              " '__subclasshook__',\n",
              " 'append',\n",
              " 'clear',\n",
              " 'copy',\n",
              " 'count',\n",
              " 'extend',\n",
              " 'index',\n",
              " 'insert',\n",
              " 'pop',\n",
              " 'remove',\n",
              " 'reverse',\n",
              " 'sort']"
            ]
          },
          "metadata": {},
          "execution_count": 67
        }
      ]
    },
    {
      "cell_type": "markdown",
      "source": [
        "Iteracion\n",
        "\n",
        "La iteración es el proceso que seguimos cuando vamos tomando diferentes elementos de una lista, es decir, la vamos iterando. Cuando usamos un bucle para iterar sobre un elemento determinado, esto es una iteración. Es el nombre que se le da al proceso."
      ],
      "metadata": {
        "id": "LO4cRMLnI8OZ"
      }
    },
    {
      "cell_type": "code",
      "source": [
        "lista = [0, 1, \"A\"]\n",
        "\n",
        "for elemento in lista:\n",
        "  print(elemento)"
      ],
      "metadata": {
        "colab": {
          "base_uri": "https://localhost:8080/"
        },
        "id": "ycjkCyBZJDHh",
        "outputId": "085cdaf9-a1a8-455f-f073-c0211916f6b1"
      },
      "execution_count": null,
      "outputs": [
        {
          "output_type": "stream",
          "name": "stdout",
          "text": [
            "0\n",
            "1\n",
            "A\n"
          ]
        }
      ]
    },
    {
      "cell_type": "markdown",
      "source": [
        "Generadores\n",
        "\n",
        "Los generadores son en realidad iteradores, pero sólo permiten ser iterados una vez. Esto se debe a que no almacenan todos los valores en memoria, sino que los van generando al vuelo. Pueden ser usados de dos formas diferentes, iterándolos con un bucle for o pasándolos a una función como veremos a continuación.\n",
        "\n",
        "La mayoría de las veces, los generadores son implementados como funciones. Sin embargo no devuelven los valores con return sino que lo hacen usando yield. Veamos un ejemplo sencillo de una función generadora."
      ],
      "metadata": {
        "id": "eLW0n4WSJS71"
      }
    },
    {
      "cell_type": "code",
      "source": [
        "def primer_generador():\n",
        "  print(\"paso 1....\")\n",
        "  yield 1\n",
        "\n",
        "  print(\"paso 2....\")\n",
        "  yield 2\n",
        "\n",
        "  print(\"paso 3....\")\n",
        "  yield 3"
      ],
      "metadata": {
        "id": "yLzqlCuWJSpK"
      },
      "execution_count": null,
      "outputs": []
    },
    {
      "cell_type": "code",
      "source": [
        "gen = primer_generador()"
      ],
      "metadata": {
        "id": "M1oGOH2HKCwY"
      },
      "execution_count": null,
      "outputs": []
    },
    {
      "cell_type": "code",
      "source": [
        "next(gen)"
      ],
      "metadata": {
        "colab": {
          "base_uri": "https://localhost:8080/",
          "height": 141
        },
        "id": "ZRficLUbKNvP",
        "outputId": "2d42139f-8d6c-4a0b-8b86-60b72b58771f"
      },
      "execution_count": null,
      "outputs": [
        {
          "output_type": "error",
          "ename": "StopIteration",
          "evalue": "",
          "traceback": [
            "\u001b[0;31m---------------------------------------------------------------------------\u001b[0m",
            "\u001b[0;31mStopIteration\u001b[0m                             Traceback (most recent call last)",
            "\u001b[0;32m<ipython-input-77-6e72e47198db>\u001b[0m in \u001b[0;36m<cell line: 1>\u001b[0;34m()\u001b[0m\n\u001b[0;32m----> 1\u001b[0;31m \u001b[0mnext\u001b[0m\u001b[0;34m(\u001b[0m\u001b[0mgen\u001b[0m\u001b[0;34m)\u001b[0m\u001b[0;34m\u001b[0m\u001b[0;34m\u001b[0m\u001b[0m\n\u001b[0m",
            "\u001b[0;31mStopIteration\u001b[0m: "
          ]
        }
      ]
    },
    {
      "cell_type": "code",
      "source": [
        "def funcion_generadora():\n",
        "  for i in range(10):\n",
        "    yield i * 2"
      ],
      "metadata": {
        "id": "9KnzPJhdLP_q"
      },
      "execution_count": null,
      "outputs": []
    },
    {
      "cell_type": "code",
      "source": [
        "for item in funcion_generadora():\n",
        "  print(item)"
      ],
      "metadata": {
        "colab": {
          "base_uri": "https://localhost:8080/"
        },
        "id": "bWbbvL67OwVv",
        "outputId": "bfdb1e46-c0e9-4b11-b022-f8b3c8d0bbfa"
      },
      "execution_count": null,
      "outputs": [
        {
          "output_type": "stream",
          "name": "stdout",
          "text": [
            "0\n",
            "2\n",
            "4\n",
            "6\n",
            "8\n",
            "10\n",
            "12\n",
            "14\n",
            "16\n",
            "18\n"
          ]
        }
      ]
    },
    {
      "cell_type": "markdown",
      "source": [
        "\n",
        "\n",
        "if name == \"main\":  print(cpl_domains(data_set))\n",
        "\n",
        "\"\"\" python3 .py ['100 clarin.com.ar', '300 com.ar', '700 ar', '200 lanacion.com.ar', '400 pedro.net.ar', '400 net.ar']"
      ],
      "metadata": {
        "id": "lFnDImPPPUfb"
      }
    },
    {
      "cell_type": "code",
      "source": [
        "data_set = [\"100 clarin.com.ar\", \"200 lanacion.com.ar\", \"400 pedro.net.ar\"]"
      ],
      "metadata": {
        "id": "HzRV_lTePuOb"
      },
      "execution_count": null,
      "outputs": []
    },
    {
      "cell_type": "code",
      "source": [
        "# cpl_domains(data_set)"
      ],
      "metadata": {
        "id": "lTXkvXjwPzft"
      },
      "execution_count": null,
      "outputs": []
    },
    {
      "cell_type": "code",
      "source": [
        "# ['100 clarin.com.ar', '300 com.ar', '700 ar', '200 lanacion.com.ar', '400 pedro.net.ar', '400 net.ar']"
      ],
      "metadata": {
        "id": "ClFCkC8_P4z_"
      },
      "execution_count": null,
      "outputs": []
    },
    {
      "cell_type": "code",
      "source": [
        "for set in data_set:\n",
        "  print(set)"
      ],
      "metadata": {
        "colab": {
          "base_uri": "https://localhost:8080/"
        },
        "id": "PKUfV0qSQ3J1",
        "outputId": "e3f3d42e-b6e9-4199-8d7a-f76674196bee"
      },
      "execution_count": null,
      "outputs": [
        {
          "output_type": "stream",
          "name": "stdout",
          "text": [
            "100 clarin.com.ar\n",
            "200 lanacion.com.ar\n",
            "400 pedro.net.ar\n"
          ]
        }
      ]
    },
    {
      "cell_type": "code",
      "source": [
        "lista = \"100 clarin.com.ar\".split(\" \")"
      ],
      "metadata": {
        "id": "Zq2lNcVpRL94"
      },
      "execution_count": null,
      "outputs": []
    },
    {
      "cell_type": "code",
      "source": [
        "lista"
      ],
      "metadata": {
        "colab": {
          "base_uri": "https://localhost:8080/"
        },
        "id": "a1gvnP6dRlJn",
        "outputId": "eb14a995-c418-4a35-aae8-d314208d6b04"
      },
      "execution_count": null,
      "outputs": [
        {
          "output_type": "execute_result",
          "data": {
            "text/plain": [
              "['100', 'clarin.com.ar']"
            ]
          },
          "metadata": {},
          "execution_count": 111
        }
      ]
    },
    {
      "cell_type": "code",
      "source": [
        "cantidad = lista[0]"
      ],
      "metadata": {
        "id": "D9yO2ClASXAr"
      },
      "execution_count": null,
      "outputs": []
    },
    {
      "cell_type": "code",
      "source": [
        "cantidad"
      ],
      "metadata": {
        "colab": {
          "base_uri": "https://localhost:8080/",
          "height": 35
        },
        "id": "dXsjf4nzSZyq",
        "outputId": "6d5b07e5-804a-4193-fa07-5efe21b5e680"
      },
      "execution_count": null,
      "outputs": [
        {
          "output_type": "execute_result",
          "data": {
            "text/plain": [
              "'100'"
            ],
            "application/vnd.google.colaboratory.intrinsic+json": {
              "type": "string"
            }
          },
          "metadata": {},
          "execution_count": 93
        }
      ]
    },
    {
      "cell_type": "code",
      "source": [
        "url_parts = lista[1].split(\".\")"
      ],
      "metadata": {
        "id": "60v3LlxHR6m7"
      },
      "execution_count": null,
      "outputs": []
    },
    {
      "cell_type": "code",
      "source": [
        "url_parts"
      ],
      "metadata": {
        "colab": {
          "base_uri": "https://localhost:8080/"
        },
        "id": "eZatqmIsTK6Y",
        "outputId": "9c9e8037-0467-4300-96d4-fef8a7f879da"
      },
      "execution_count": null,
      "outputs": [
        {
          "output_type": "execute_result",
          "data": {
            "text/plain": [
              "['clarin', 'com', 'ar']"
            ]
          },
          "metadata": {},
          "execution_count": 114
        }
      ]
    },
    {
      "cell_type": "code",
      "source": [
        "\".\".join(url_parts)"
      ],
      "metadata": {
        "colab": {
          "base_uri": "https://localhost:8080/",
          "height": 35
        },
        "id": "v3_w3NZCSdoi",
        "outputId": "4cede29d-93c1-47bc-ec8c-9e0756a53307"
      },
      "execution_count": null,
      "outputs": [
        {
          "output_type": "execute_result",
          "data": {
            "text/plain": [
              "'clarin.com.ar'"
            ],
            "application/vnd.google.colaboratory.intrinsic+json": {
              "type": "string"
            }
          },
          "metadata": {},
          "execution_count": 115
        }
      ]
    },
    {
      "cell_type": "code",
      "source": [
        "url_parts.pop(0)"
      ],
      "metadata": {
        "colab": {
          "base_uri": "https://localhost:8080/",
          "height": 35
        },
        "id": "o53unRe5SFVU",
        "outputId": "8701980d-5041-417b-ec34-8d911663bb10"
      },
      "execution_count": null,
      "outputs": [
        {
          "output_type": "execute_result",
          "data": {
            "text/plain": [
              "'clarin'"
            ],
            "application/vnd.google.colaboratory.intrinsic+json": {
              "type": "string"
            }
          },
          "metadata": {},
          "execution_count": 116
        }
      ]
    },
    {
      "cell_type": "code",
      "source": [
        "url_parts"
      ],
      "metadata": {
        "colab": {
          "base_uri": "https://localhost:8080/"
        },
        "id": "npOXePRgTw62",
        "outputId": "f2bea9ce-0e7a-41d4-afdb-1fb52a82eac6"
      },
      "execution_count": null,
      "outputs": [
        {
          "output_type": "execute_result",
          "data": {
            "text/plain": [
              "['com', 'ar']"
            ]
          },
          "metadata": {},
          "execution_count": 117
        }
      ]
    },
    {
      "cell_type": "code",
      "source": [
        "\".\".join(url_parts)"
      ],
      "metadata": {
        "colab": {
          "base_uri": "https://localhost:8080/",
          "height": 35
        },
        "id": "7oWrYvBeUFX9",
        "outputId": "5c0fbc91-1c0d-4c62-ef7d-60c4d5cfba4b"
      },
      "execution_count": null,
      "outputs": [
        {
          "output_type": "execute_result",
          "data": {
            "text/plain": [
              "'com.ar'"
            ],
            "application/vnd.google.colaboratory.intrinsic+json": {
              "type": "string"
            }
          },
          "metadata": {},
          "execution_count": 118
        }
      ]
    },
    {
      "cell_type": "code",
      "source": [
        "url_parts.pop(0)"
      ],
      "metadata": {
        "colab": {
          "base_uri": "https://localhost:8080/",
          "height": 35
        },
        "id": "9up4kN-ST1Ni",
        "outputId": "437909b8-ae0f-4223-8741-d8454cc25831"
      },
      "execution_count": null,
      "outputs": [
        {
          "output_type": "execute_result",
          "data": {
            "text/plain": [
              "'com'"
            ],
            "application/vnd.google.colaboratory.intrinsic+json": {
              "type": "string"
            }
          },
          "metadata": {},
          "execution_count": 119
        }
      ]
    },
    {
      "cell_type": "code",
      "source": [
        "url_parts"
      ],
      "metadata": {
        "colab": {
          "base_uri": "https://localhost:8080/"
        },
        "id": "y6Jq-XtsT9AG",
        "outputId": "2256386c-5538-45f3-8a2d-90f81f128783"
      },
      "execution_count": null,
      "outputs": [
        {
          "output_type": "execute_result",
          "data": {
            "text/plain": [
              "['ar']"
            ]
          },
          "metadata": {},
          "execution_count": 120
        }
      ]
    }
  ]
}