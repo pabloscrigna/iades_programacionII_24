{
  "nbformat": 4,
  "nbformat_minor": 0,
  "metadata": {
    "colab": {
      "provenance": []
    },
    "kernelspec": {
      "name": "python3",
      "display_name": "Python 3"
    },
    "language_info": {
      "name": "python"
    }
  },
  "cells": [
    {
      "cell_type": "code",
      "source": [
        "!python -c \"import platform; print(platform.python_implementation())\""
      ],
      "metadata": {
        "id": "zizKBhU73rWI"
      },
      "execution_count": null,
      "outputs": []
    },
    {
      "cell_type": "markdown",
      "source": [
        "Además de CPython, existen otras implementaciones de Python: Jython, IronPython, PyPy y Stackless Python."
      ],
      "metadata": {
        "id": "M2Bq3njjbRYA"
      }
    },
    {
      "cell_type": "code",
      "source": [
        "!python --version"
      ],
      "metadata": {
        "id": "d9SahwJbC0Zk"
      },
      "execution_count": null,
      "outputs": []
    },
    {
      "cell_type": "code",
      "source": [
        "# Linea de comentario\n",
        "\n",
        "\"\"\"\n",
        "Bloque\n",
        "de\n",
        "Comentario\n",
        "\"\"\""
      ],
      "metadata": {
        "id": "_5FHh1CXC4qR"
      },
      "execution_count": null,
      "outputs": []
    },
    {
      "cell_type": "markdown",
      "source": [
        "## Numeros en python\n",
        "\n",
        "![green-divider](https://user-images.githubusercontent.com/7065401/52071924-c003ad80-2562-11e9-8297-1c6595f8a7ff.png)\n",
        "\n",
        "\n",
        "\n",
        "\n"
      ],
      "metadata": {
        "id": "Nt63St9rxTXS"
      }
    },
    {
      "cell_type": "markdown",
      "source": [
        "![purple-divider](https://user-images.githubusercontent.com/7065401/52071927-c1cd7100-2562-11e9-908a-dde91ba14e59.png)\n",
        "\n",
        "### Tipos de numeros\n",
        "\n",
        "Python distingue entre:\n",
        "* enteros\n",
        "* números de punto flotante  \n",
        "* números complejos\n"
      ],
      "metadata": {
        "id": "76eZ_pkx90iQ"
      }
    },
    {
      "cell_type": "code",
      "source": [
        "import sys"
      ],
      "metadata": {
        "id": "A_Wslm9G5BV0"
      },
      "execution_count": null,
      "outputs": []
    },
    {
      "cell_type": "markdown",
      "source": [
        "![purple-divider](https://user-images.githubusercontent.com/7065401/52071927-c1cd7100-2562-11e9-908a-dde91ba14e59.png)\n",
        "\n",
        "#### Numeros enteros\n",
        "\n",
        "Los números enteros son aquellos que **no tienen decimales**, tanto positivos como negativos (además del cero). En Python se pueden representar mediante el tipo int (de integer, entero)."
      ],
      "metadata": {
        "id": "Ymt8SzjqznAQ"
      }
    },
    {
      "cell_type": "code",
      "execution_count": null,
      "metadata": {
        "id": "15kjRxH2G2Ko"
      },
      "outputs": [],
      "source": [
        "1"
      ]
    },
    {
      "cell_type": "code",
      "source": [
        "-1"
      ],
      "metadata": {
        "id": "xqC2EplxDgxk"
      },
      "execution_count": null,
      "outputs": []
    },
    {
      "cell_type": "code",
      "source": [
        "0"
      ],
      "metadata": {
        "id": "bOX-dPI6DibR"
      },
      "execution_count": null,
      "outputs": []
    },
    {
      "cell_type": "code",
      "source": [
        "type(1)"
      ],
      "metadata": {
        "id": "3QS4Zen2fZlg"
      },
      "execution_count": null,
      "outputs": []
    },
    {
      "cell_type": "code",
      "source": [
        "a = \"2\"\n",
        "type(a)"
      ],
      "metadata": {
        "id": "Kh2yaXxlHWEb"
      },
      "execution_count": null,
      "outputs": []
    },
    {
      "cell_type": "markdown",
      "source": [
        "A diferencia de otros lenguajes de programación, los números de tipo int en Python 3 pueden ser pequeños o grandes, no tienen límite alguno."
      ],
      "metadata": {
        "id": "RDpMlqDW0ZUD"
      }
    },
    {
      "cell_type": "markdown",
      "source": [
        "![purple-divider](https://user-images.githubusercontent.com/7065401/52071927-c1cd7100-2562-11e9-908a-dde91ba14e59.png)\n",
        "\n",
        "#### Long\n",
        "\n",
        "Los números enteros largos o long en Python son iguales a los enteros, no tienen decimales, y **pueden ser positivos, negativos**. Se tratan de números de cualquier tamaño.\n"
      ],
      "metadata": {
        "id": "lqwCjh4p0gob"
      }
    },
    {
      "cell_type": "code",
      "source": [
        "812893712387912379123"
      ],
      "metadata": {
        "id": "6hMVpKO70dOn"
      },
      "execution_count": null,
      "outputs": []
    },
    {
      "cell_type": "code",
      "source": [
        "type(1)"
      ],
      "metadata": {
        "id": "052OV8sQDp2I"
      },
      "execution_count": null,
      "outputs": []
    },
    {
      "cell_type": "code",
      "source": [
        "type(8128937123879123791233445546)"
      ],
      "metadata": {
        "id": "woizhicbDvJG"
      },
      "execution_count": null,
      "outputs": []
    },
    {
      "cell_type": "markdown",
      "source": [
        "![purple-divider](https://user-images.githubusercontent.com/7065401/52071927-c1cd7100-2562-11e9-908a-dde91ba14e59.png)\n",
        "\n",
        "#### Float / Decimal\n",
        "\n",
        "Los **números reales**, son los que tienen decimales, en Python se expresan mediante el tipo **float**. Desde Python 2.4 cuenta con un nuevo tipo Decimal, para el caso de que se necesite representar fracciones de forma más precisa."
      ],
      "metadata": {
        "id": "BHdIJ_e_6HXw"
      }
    },
    {
      "cell_type": "code",
      "source": [
        "2.5"
      ],
      "metadata": {
        "id": "rAVZLCja6gpY"
      },
      "execution_count": null,
      "outputs": []
    },
    {
      "cell_type": "code",
      "source": [
        "type(0.5)"
      ],
      "metadata": {
        "id": "4vJYJ8CiD6jM"
      },
      "execution_count": null,
      "outputs": []
    },
    {
      "cell_type": "code",
      "source": [
        "2,5"
      ],
      "metadata": {
        "id": "OQe99FPlgKrw"
      },
      "execution_count": null,
      "outputs": []
    },
    {
      "cell_type": "code",
      "source": [
        "type(2,5)"
      ],
      "metadata": {
        "id": "njZCLvs-gOE9"
      },
      "execution_count": null,
      "outputs": []
    },
    {
      "cell_type": "markdown",
      "source": [
        "![purple-divider](https://user-images.githubusercontent.com/7065401/52071927-c1cd7100-2562-11e9-908a-dde91ba14e59.png)\n",
        "\n",
        "####  Numeros Complejos\n",
        "\n",
        "Los números complejos son los que tienen parte imaginaria, es muy probable que no lo vayas a necesitar nunca. Este tipo se llama **complex**, se almacena usando reales, ya que es una extensión de dichos números."
      ],
      "metadata": {
        "id": "G7jEjXS36z1o"
      }
    },
    {
      "cell_type": "code",
      "source": [
        "2 + 2j"
      ],
      "metadata": {
        "id": "NIm1S8e_7WoE"
      },
      "execution_count": null,
      "outputs": []
    },
    {
      "cell_type": "code",
      "source": [
        "type(2+2j)"
      ],
      "metadata": {
        "id": "_RqcWDOFEHgD"
      },
      "execution_count": null,
      "outputs": []
    },
    {
      "cell_type": "markdown",
      "source": [
        "![purple-divider](https://user-images.githubusercontent.com/7065401/52071927-c1cd7100-2562-11e9-908a-dde91ba14e59.png)\n",
        "\n",
        "### Operaciones numericas\n",
        "\n",
        "En programación y en matemáticas, __los operadores aritméticos son aquellos que manipulan los datos de tipo numérico__, es decir, permiten la realización de operaciones matemáticas (sumas, restas, multiplicaciones, etc.).\n"
      ],
      "metadata": {
        "id": "LWzcKCux77SZ"
      }
    },
    {
      "cell_type": "markdown",
      "source": [
        "#### Operadores Aritmeticos\n",
        "\n",
        "![image.png](data:image/png;base64,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)"
      ],
      "metadata": {
        "id": "T0ywvmnL_bUy"
      }
    },
    {
      "cell_type": "code",
      "source": [
        "# Suma\n",
        "2.5 + 2.5"
      ],
      "metadata": {
        "id": "l7943tUH9WMd"
      },
      "execution_count": null,
      "outputs": []
    },
    {
      "cell_type": "code",
      "source": [
        "int(2.5 + 2.5)"
      ],
      "metadata": {
        "id": "F2mstmK4hXVC"
      },
      "execution_count": null,
      "outputs": []
    },
    {
      "cell_type": "code",
      "source": [
        "# Resta\n",
        "5 - 0.5"
      ],
      "metadata": {
        "id": "1txI5OwCACDF"
      },
      "execution_count": null,
      "outputs": []
    },
    {
      "cell_type": "code",
      "source": [
        "# Division\n",
        "12 /4"
      ],
      "metadata": {
        "id": "6M7T0vsF0NCd"
      },
      "execution_count": null,
      "outputs": []
    },
    {
      "cell_type": "code",
      "source": [
        "# Division Entera\n",
        "17 // 2"
      ],
      "metadata": {
        "id": "djyg40_90QON"
      },
      "execution_count": null,
      "outputs": []
    },
    {
      "cell_type": "code",
      "source": [
        "# Division Resto\n",
        "19 % 2"
      ],
      "metadata": {
        "id": "-fStV7nGzIoo"
      },
      "execution_count": null,
      "outputs": []
    },
    {
      "cell_type": "code",
      "source": [
        "# Potenciacion\n",
        "\n",
        "4 ** 2"
      ],
      "metadata": {
        "id": "msMCB_M3FfJT"
      },
      "execution_count": null,
      "outputs": []
    },
    {
      "cell_type": "code",
      "source": [
        "4 ** 0.5"
      ],
      "metadata": {
        "id": "Oo6tS9PSF3X8"
      },
      "execution_count": null,
      "outputs": []
    },
    {
      "cell_type": "markdown",
      "source": [
        "![purple-divider](https://user-images.githubusercontent.com/7065401/52071927-c1cd7100-2562-11e9-908a-dde91ba14e59.png)\n",
        "\n",
        "### Precedencias o Jerarquías\n",
        "\n",
        "Al igual que ocurre en matemáticas, en programación también tenemos una prioridad en los operadores. Esto significa que si una expresión matemática es precedida por un operador y seguido de otro, el operador más alto en la lista debe ser aplicado por primera vez."
      ],
      "metadata": {
        "id": "SmfWfy81AN2F"
      }
    },
    {
      "cell_type": "markdown",
      "source": [
        "El orden normal de las operaciones es de izquierda a derecha, evaluando en orden los siguientes operadores:\n",
        "\n",
        "1. Términos entre paréntesis.\n",
        "2. Potenciación y raíces.\n",
        "3. Multiplicación y división.\n",
        "4. Suma y resta."
      ],
      "metadata": {
        "id": "QALVOzj471Us"
      }
    },
    {
      "cell_type": "markdown",
      "source": [
        "En el lenguaje de programación de Python se representan los operadores con el siguiente orden:\n",
        "\n",
        "1. ()\n",
        "2. **\n",
        "3. *, / , % , //\n",
        "4. + , -"
      ],
      "metadata": {
        "id": "EBLPdHcz8QFU"
      }
    },
    {
      "cell_type": "code",
      "source": [
        "(5 + 5)**2 + 10 / 2\n",
        "# 10**2 + 5\n",
        "# 100 + 5\n",
        "# 105"
      ],
      "metadata": {
        "id": "Ppfgfcmo8qkn"
      },
      "execution_count": null,
      "outputs": []
    },
    {
      "cell_type": "code",
      "source": [
        "6 * (4+2) - 24 / 6 - 2\n",
        "# 6 * 6 - 4  - 2\n",
        "# 36 - 4 - 2\n",
        "# 30"
      ],
      "metadata": {
        "id": "_R3EBzNkGZoV"
      },
      "execution_count": null,
      "outputs": []
    },
    {
      "cell_type": "markdown",
      "source": [
        "## Cadenas de **texto**\n",
        "\n",
        "![green-divider](https://user-images.githubusercontent.com/7065401/52071924-c003ad80-2562-11e9-8297-1c6595f8a7ff.png)"
      ],
      "metadata": {
        "id": "KWhD5QcLBieR"
      }
    },
    {
      "cell_type": "markdown",
      "source": [
        "### Cadenas de texto en Python\n",
        "\n",
        "Las cadenas (o strings) son un **tipo de datos compuestos por secuencias de caracteres que representan texto**. Estas cadenas de texto son de tipo **str** y se delimitan mediante el uso de comillas simples o dobles.\n"
      ],
      "metadata": {
        "id": "-hL0RDSzB3Ks"
      }
    },
    {
      "cell_type": "code",
      "source": [
        "\"Hola mundo!\""
      ],
      "metadata": {
        "id": "2NkNLczTINMw"
      },
      "execution_count": null,
      "outputs": []
    },
    {
      "cell_type": "code",
      "source": [
        "'Hola mundo!'"
      ],
      "metadata": {
        "id": "4VV46ZczzuF2"
      },
      "execution_count": null,
      "outputs": []
    },
    {
      "cell_type": "markdown",
      "source": [
        "Y si quiero poner comillas en mi texto?"
      ],
      "metadata": {
        "id": "E13cYWHAIXb4"
      }
    },
    {
      "cell_type": "code",
      "source": [
        "# Poner comillas simples\n",
        "\"Hola 'mundo' !!!\""
      ],
      "metadata": {
        "id": "FYWx-5l0IhKm"
      },
      "execution_count": null,
      "outputs": []
    },
    {
      "cell_type": "code",
      "source": [
        "# Poner comillas dobles\n",
        "'Hola \"mundo\"!!!!'"
      ],
      "metadata": {
        "id": "AHB9wEoHIqOf"
      },
      "execution_count": null,
      "outputs": []
    },
    {
      "cell_type": "code",
      "source": [
        "# Con las mismas comillas las dos veces!!!\n",
        "\"Hola mundo \\\"!!!!!\\\"\""
      ],
      "metadata": {
        "id": "uJoacwrOz2P5"
      },
      "execution_count": null,
      "outputs": []
    },
    {
      "cell_type": "code",
      "source": [
        "type(\"Hola\")"
      ],
      "metadata": {
        "id": "ctcfPBTBHhza"
      },
      "execution_count": null,
      "outputs": []
    },
    {
      "cell_type": "markdown",
      "source": [
        "![green-divider](https://user-images.githubusercontent.com/7065401/52071924-c003ad80-2562-11e9-8297-1c6595f8a7ff.png)"
      ],
      "metadata": {
        "id": "uPlrKWBmFJok"
      }
    },
    {
      "cell_type": "markdown",
      "source": [
        "## Salida por pantalla **print**\n",
        "\n",
        "![green-divider](https://user-images.githubusercontent.com/7065401/52071924-c003ad80-2562-11e9-8297-1c6595f8a7ff.png)"
      ],
      "metadata": {
        "id": "aoKJKQNxJUd_"
      }
    },
    {
      "cell_type": "markdown",
      "source": [
        "La forma correcta de mostrar cadenas de texto (u otros objetos) por pantalla en Python es utilizando una función llamada print (imprimir). Se indica lo que se desea mostrar por pantalla entre paréntesis."
      ],
      "metadata": {
        "id": "AsaU9HWCM8yk"
      }
    },
    {
      "cell_type": "code",
      "source": [
        "print(\"Hola mundo!!!\")"
      ],
      "metadata": {
        "id": "iyisEMONJdEZ"
      },
      "execution_count": null,
      "outputs": []
    },
    {
      "cell_type": "code",
      "source": [
        "print(\"Columna1\\tColumna2\\tColumna3\")"
      ],
      "metadata": {
        "id": "B39Q-NYTICoZ"
      },
      "execution_count": null,
      "outputs": []
    },
    {
      "cell_type": "code",
      "source": [
        "print(\"Hola\\nmundo\")"
      ],
      "metadata": {
        "id": "jmAxJhKYIMi_"
      },
      "execution_count": null,
      "outputs": []
    },
    {
      "cell_type": "code",
      "source": [
        "print(\"\"\"Ingrese una opcion:\n",
        "        1. Ingresar nombre\n",
        "        2. Ingresar valor\n",
        "        \"\"\")"
      ],
      "metadata": {
        "id": "281L1qIWIX8_"
      },
      "execution_count": null,
      "outputs": []
    },
    {
      "cell_type": "code",
      "source": [
        "print(\"Ingrese una opcion:\")\n",
        "print(\"1. Ingrese valor\")\n"
      ],
      "metadata": {
        "id": "b53GttC4Jip3"
      },
      "execution_count": null,
      "outputs": []
    },
    {
      "cell_type": "code",
      "source": [
        "print(\"Hola\\\\nmundo\")"
      ],
      "metadata": {
        "id": "6ONU4HchJMVb"
      },
      "execution_count": null,
      "outputs": []
    },
    {
      "cell_type": "markdown",
      "source": [
        "## Variables\n",
        "\n",
        "![green-divider](https://user-images.githubusercontent.com/7065401/52071924-c003ad80-2562-11e9-8297-1c6595f8a7ff.png)"
      ],
      "metadata": {
        "id": "8bOl-4c7ASRx"
      }
    },
    {
      "cell_type": "markdown",
      "source": [
        "### Variables en matemáticas\n",
        "\n",
        "En el caso del Álgebra, una variable representa una cantidad desconocida que se relaciona con otras. Consideremos por ejemplo la ecuación, la variable x:\n",
        "\n",
        "x + 3 = 5"
      ],
      "metadata": {
        "id": "OlLW71yjTjK4"
      }
    },
    {
      "cell_type": "markdown",
      "source": [
        "### Variables en Python\n",
        "\n",
        "En algunos lenguajes de programación, las variables se pueden entender como \"cajas\" en las que se guardan los datos, pero en Python las variables son \"etiquetas\" que permiten hacer referencia a los datos (que se guardan en unas \"cajas\" llamadas objetos).\n",
        "\n",
        "![image.png](data:image/png;base64,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)"
      ],
      "metadata": {
        "id": "6EMKecsfV-bW"
      }
    },
    {
      "cell_type": "code",
      "source": [
        "A = 2\n",
        "print(A)"
      ],
      "metadata": {
        "id": "L_5t-fh1ATtt"
      },
      "execution_count": null,
      "outputs": []
    },
    {
      "cell_type": "code",
      "source": [
        "C = 2\n",
        "print(C)"
      ],
      "metadata": {
        "id": "qKBt7qIviy0B"
      },
      "execution_count": null,
      "outputs": []
    },
    {
      "cell_type": "markdown",
      "source": [
        "![purple-divider](https://user-images.githubusercontent.com/7065401/52071927-c1cd7100-2562-11e9-908a-dde91ba14e59.png)\n",
        "\n",
        "Para cada dato que aparece en un programa, Python crea un objeto que lo contiene. Cada objeto tiene:\n",
        "\n",
        "1. Un **identificador único** (un número entero, distinto para cada objeto). El identificador permite a Python referirse al objeto sin ambigüedades.\n",
        "\n",
        "2. Un tipo de datos (entero, decimal, cadena de caracteres, etc.). El tipo de datos permite saber a Python qué operaciones pueden hacerse con el dato.\n",
        "\n",
        "3. Un valor (el propio dato).\n",
        "\n"
      ],
      "metadata": {
        "id": "cLXg23HxdcTG"
      }
    },
    {
      "cell_type": "code",
      "source": [
        "a = 5\n",
        "a"
      ],
      "metadata": {
        "id": "T_LlnUY7kbxz"
      },
      "execution_count": null,
      "outputs": []
    },
    {
      "cell_type": "code",
      "source": [
        "# Identificador unico\n",
        "id(a)"
      ],
      "metadata": {
        "id": "DrMeT0magMPr"
      },
      "execution_count": null,
      "outputs": []
    },
    {
      "cell_type": "code",
      "source": [
        "# Un tipo de dato\n",
        "type(a)"
      ],
      "metadata": {
        "id": "CTfLbumzgT1j"
      },
      "execution_count": null,
      "outputs": []
    },
    {
      "cell_type": "code",
      "source": [
        "# Valor\n",
        "a"
      ],
      "metadata": {
        "id": "hoglJqsQgZn6"
      },
      "execution_count": null,
      "outputs": []
    },
    {
      "cell_type": "markdown",
      "source": [
        "Supongamos que tenemos la variable\n",
        "\n",
        "a = 10\n",
        "\n",
        "y le asignamos el valor 20"
      ],
      "metadata": {
        "id": "YbHGfbwWhjOm"
      }
    },
    {
      "cell_type": "code",
      "source": [
        "a = 10\n",
        "id(a)"
      ],
      "metadata": {
        "id": "-EvoyH-Xhnsb"
      },
      "execution_count": null,
      "outputs": []
    },
    {
      "cell_type": "code",
      "source": [
        "a = 20\n",
        "id(a)"
      ],
      "metadata": {
        "id": "EZbVJWUULLrD"
      },
      "execution_count": null,
      "outputs": []
    },
    {
      "cell_type": "code",
      "source": [
        "a = 10\n",
        "id(10)"
      ],
      "metadata": {
        "id": "VxhTXZm6LYXX"
      },
      "execution_count": null,
      "outputs": []
    },
    {
      "cell_type": "markdown",
      "source": [
        "![image.png](data:image/png;base64,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)"
      ],
      "metadata": {
        "id": "cExjDDXih3rj"
      }
    },
    {
      "cell_type": "markdown",
      "source": [
        "Supongamos que tenemos las variables\n",
        "\n",
        "* a = 10\n",
        "* b = 10\n",
        "\n",
        "y luego **a** pasa a valer 20"
      ],
      "metadata": {
        "id": "IFvBjOJNh6tE"
      }
    },
    {
      "cell_type": "code",
      "source": [
        "a = 10\n",
        "b = 10\n",
        "\n",
        "print(id(a))\n",
        "print(id(b))\n",
        "print(a)\n",
        "print(b)"
      ],
      "metadata": {
        "id": "cXv4Odu-iHkM"
      },
      "execution_count": null,
      "outputs": []
    },
    {
      "cell_type": "code",
      "source": [
        "a = 20\n",
        "\n",
        "print(id(a))\n",
        "print(id(b))\n",
        "print(a)\n",
        "print(b)"
      ],
      "metadata": {
        "id": "BUFOJGO_ML2W"
      },
      "execution_count": null,
      "outputs": []
    },
    {
      "cell_type": "markdown",
      "source": [
        "![image.png](data:image/png;base64,iVBORw0KGgoAAAANSUhEUgAAAPoAAACvCAIAAABbzVQuAAAgAElEQVR4Ae1dP2jbztt/ESZDEBmK6RBMhmIyBNOhmA7FZCgmQzAdiulQTIdiOgTToZgOxWQopkMxHYLpEEyHYjoUkyGIDMVkCCJDMB2C6RBEhiAyBJPhh/BgDvNyfuTzRZJPJ0uy5HwVjvasP6e75z569Nzz7/4PDRFdtL6mXCids077T1s6lO5zOZLaf9rtP235VFavVZoIUf2+UuD/6IF1z7vS0b2G+PQXuH3c1voaTY2ofv8oMIG7eqViXn4kdf52eje9/8TcD5DW19QrtX2MP2XtP+3ebe/+zXE0IkIBHe5aXwO+/p/9rHfOOvC2R4gn4Lh/FR3uwNo7Z537N0L+EWFZbsTj/xNftrtrNn4qLfSVOtyVC0U6lLr/ugs9GPed7/zFPD6S491TMpwt6HAHxqZe2SkoBqh301MulO6/7mIV5VLhlFLkU1k6lOQTGQ3u6KzCOX9RrxxRQIc7SK69m6kLNa2vySdy+0+7c9ZRLhTlcsFK97wrn8jSEccXbIDwlYeSfCo7ImV0cfgpoMMdWNo0/qdcKO0/7fuwih2gzllHPpHZ0rnW18Ds0Pn7n17MhB++Tns4hvuIn1nCXblU5FMbfDh9arDXY83jnzZbViGqqmg9E+xkeft0G7gDn2PzQm87NJ/Wuv+6tpy7d9MD5axyqcynV9FT/KaADdw7Zx379etiqrTax/ZGJfVaN73dB0FuMafJ2xfABu7SkcT+6Hvbm3m2hhfcF/ZsG1S00pFkKenNs8PRs9xTgAV3LMkct90/I5wt9G56nGa1yPwUzhmcoVcsuKtXqq2AO8MjQ3ILLEs4OwOKWvzyR8r4RRaKbODePb+/dtYBwqIa9+TpyviTSBm/wNa3CO7ckzdA4DjJKQLxv0jRlXOjQAR3brgPsbcwmJ/u80eP+3M3N4x6+KDQwH3keq71NSgejnBqUw6FGWindztWxnNodaY++l5DKsyjDhju6jVeDWOWeYQjS+iCY+psXdbc4GYmuKMhdpID85O/3XMztOjeKRQIDO6g5QTcTI2IHYWT+mXTnRXuaIhI5BfDqS7MTO4/27dg4E4Y5FSg00GlPpm6XMAdDVH3H44FkY4kv97GKfzJjNT693p9LypcFAgC7gN0J83BSIbBGQFOZPAx1kUagvgjyRevFXdwR0Okx4L8CTimO/4gLkR/fBQIAO6YL5J8B0c4kMLIIAcjJJFrRgF1Zq7m9ohruKMhmsSCcDNjt902PSiCOx/U8VUBwN3A2qfZKcGso0s7fsgzXsAdjZXxvnx/TMi2fFUiuIcX7tiPfCTygsTC8CZXLhX6I2D8AvBBwRIf+kEncNf6GsRDtY/bnb8dujPEa3Lae8vqg/tRDBEN99JOqfyhHBWaAvTLEAB3x6ldrlWcq+wubgywwDAi8owfK0JuuKvXOBxEucDRrjjL2iWO7aLZOXjUBKWXpOEeuW0aUISGKGC4mzukH4EkR6M3AeJKQwH30cKaZudobF4lB/GH6FAKytQawX0qokYfzxDBXb1WdSHBYGkiahmoBMfdcdoFyk+OuMgrl5PjIKEF5SwdwX0B4A4iwYR/G/Bt+Bkc3Dt/J/Fc4PgOqqTebQ8n5xjxDx3ufwKIDdD6mrgiEgYWCTNm6BPiBKOZwRrrsw4L6GNN/OSa4ODePe+CmI69ZchLOErgQVwj4RRBv5niPh2B5U0EdzZ5A4Y75pFkDTqWVfCRI5zapXvexWu+wchQTy4LDu7qtUoSzmDfAdIlKhENKGcI+tnU9+qsbtY9lCK4s0kaJNyJRyFRqOPo72uVLPtI1w2KSO8/09yamc5ZhyhMdVefMZuHlCRgbCJiPRmCX5VRthzyqYngzqZzkHC/w9qZOb0I9/IrFTU33NHIygsad+y/eYw3QSBog4pt4hr2lPCfJem54bmds060VGVTL0i4G2ylZqZOug6hQwRMAXJ36BJkglev9A/RnY/PiNl3zu6Yn8hAvKrgxf0oDz150+CbE8GdTeFA4T5KOKpP2HTXAAOY8EYD0/NXskc79Sw/d59i+yTBTQR/0qHUOcObQXhpYR0gSFpIP4XOYRjBfeoUB653p0UUnKCUUmmTTt/xIRsxTnp2yWVuK67hrqcnGKWJpZewGJejZbdyqTA+X+z+925xpmW8KqAWxyDX0QZddNeJwPtv4JRXnd35UJ0NkrsbPd1HHpE4G/VNT71Su/+6emTTeC1IvgPem+jdwd3g/av1NXzkLjSh8zht8l+cNlm9UvVdgOjsHeOoRUwB8K2YoqVtH7ctiTB/7q5eq9mtbGYzIx06SOWgXCj1vXrpfSn3Ipd/mS+9L+HbaVL482oFCXe03+gcj0L1aECTsD3zwfER7zPeuIC7/o0ypRbDnmT/Rpm1x92mJZA79VGgluXrceeyUTvyCSuOcf5wz7/MA4bq3+s8jLx32yu9L8WWYjTyoJ5YTbQOWjyNzHwN/dD5uogdtJAQQ2uJztcaa6ZHUIAsX5O5d5IThos0s8IdPGRwGj3GcmJkN9DDcG2hb3VB+7iNTRDX2ATBHs6c4V77WiMA4oF777aXXE+SWywrlU8V9hjdnKWfOEe43/TQwziGuxBDb4v6YpTw9XGFdjbUQ0LHaPA4L+lMcNfdfQ8lS7nCclZ6t1hOA98byC5/R495hPfGwZFcp3LnbwesbI4k/nnCvb5Xp9FjC3etr2WeZcgt6afp2teafCo3fzWLb4s0v2/8aFhSz/1B8vT5OhG8yutYX0ug/+k7mGp9De9+c4nlWktjk/vRTm3BOdzJwsOwWJz6CLYwase2OZudG9wrnyo0dARBsIV79UuV3FJ4UzB8qdrHbXFZd/gRV0Sf1tmkA3OE+++RGAOsPQhXKgvoOIR7aDc4mAPc8dr0eZbGDdTZcNf6WvxhHK7MbmUtpmCI9wUizfok0pD2p8Id3P0a+43at1rroOWySD8aaEUE1q5s51y25snteElwJNW+1nQ1OZsNjx3csVo9fNvX+Ap3ra9Vv1RpP4XEWoIAiA33xn6DXMlwKMq/0he+8Ydxy1fC5UHSByPc1Su1vldPbaToK9zXJWDqQkwRYqJgsTx3/wg3LcSWYvlXeRaOxwGpjDlzOSVubvcP7r2bHg1uQRCK74rdf11CbTbciQIn+SjJGKB0KJEG/YgZII3fgXvzVzOxqr+44rKYeZbJvci5L/UnaV1kF2KVTW/adN+r3IscaI7TT9KwYIotxZq/mhazQjbiC+vWk/7BXblQCFbEFRHoo16p5CAb7kSSKb4rWhB2/EXV+hpp0A95hjR+B+6ZTbyCTj1OeakHvVbRg7E25kOZMeYAT6nXammnBESpfqkaegLejmHO7O433MVlsfyhTNRinHBXLievCvutQENENJX5l3kD/d3/tIA7KJjEFdEbncP4xUXbOZ21rydRX9fGuB+AHy3Uv+sqttrXGmnfYDolx0NV8Q/u6pVa+VQxmBc44d46aBGc2ebRJ+vg1EbKc9qSbky4e/FdURCEsrcM+EQmYgw6W4ANSskMwVcbQvXCkBaPjQD/4G75XE64N35M1qkkWsCyQTRExbcYfoIgiCvitGtmPm4Bd1hV1Pe4bMK8D97M6HDfKfHeQj4LAVWAx2M5/mcTtDc+KYM9JEg44V77NjG+2prkSu91YVIQBA8pA01ZwB0Ed7bU3j3v1r7VCq8LqY1U/GGcXfJEZBdiabuL2U25P5tYS2S3spVPFTxAO+NO+WMZs5llsf69TgRWz+fAwwbDCffq54mBySAOmccONAdcOrIom5syH7GAOygfpynatL5W/lBOrCbKH8rNX03s3HeNjaCMgp7qChntbZFx2dxOtf+0q1+q2efZ1OMUS+c4+qoUXhcEQUisJmzZkpm48z8STriXP2CuAX+2X0jaXus5ixn3Av+v+8zA0tgSB+qVmtpIFV4XbDs9mek/bV2MWRbRtTo5HpCIQneg+bMZfxhv7DM9NAYIFk+pxykHow5odCGF++gjOQPcPSe4M7hnt7LVz0b1HA0gi/qYtSNv174e4Um5VOIP4+z1k9bXUo+xuS37PGsr/1hQwKOu8rQcTrjTwowtw6Y/BZ5T2wHcG/uN9NM0D9En1xxJE9bOcJGdIyAmfRs/VB8XU45Xr1SwuxVeF8wthOdIOOFOL1VttdvE7jEnzYwuu5scQhKrCcv4OtZkEzNqKFk76XnmmX0wTve8C+4i5Y8htZHNP3hvBkWkpZBMJgINESyWYL1EH/ekbsHd4cNt6JZ6rTr22jlcANYORKzsViq79lEF7eM2eBl4rKUdf2fcz2g4uTvt6mgb40d84tNPHIoSHGTkhXvroDXNb3PqJL0u6JJMiNkhdF46lDhH1/zVBJKxFbVTacIxJW7uDSfce7c9gjNbTkGctdjeNbNRiXRjopmx5O61rzVndtYBIo6+yCQXzdZX/+5SLhS2px79aAhTEJdFkkCPPhtsPZxwR0NEQIwDO6a/87R05EdMEy/cq1+qzmRWon9kOnwqF0piLQHF1puCQSaXp5RL3A3+RmA5FX9go9Lhb9CrK0MLd+IawKazI3eDGYjmG9zfFXVJhrlIpR2mW7/9jUJnUMcp3NEQ5V7kBEFIPkraatYYz/X8VGjhLh1NHNkZcmD6SRoQmXrsvX+Y9e4dlsKMY+6+mtDhPk58bjm1iwt3ra+ln+K5ST9Je27rtqQVz8HQwh0NJvIM5hFWe6DT+krreIPpUhAPcXyD++nY/9EuBGtx4Q47xIMFGi9zmWp7zslwf1l44T5EZJWPlYxrCUOSZNoUlVxnRTy5oZI/wszHss7a37JCV2C/adKDxRJmgOhglMWRbHYjdTNJ/PeGGe5EAoQZjy3Fss+xkb74rph8NEk+I66Ijs073FyfgM1GM+NMmFlP6nC3S6S20NwdUNg560DGCB7NPT9wZ7sy5HDX+lpuG695pv2Jy6IfIaqEmPRzdRcxt7L7paJjfVm0jVq6B3BHQ0QCim28zbiZEJkep5WQwx2G09hvGKK8AYXFd9hh1umQHV3vA9yJCnJKOhG6f5Zwh+TR9e/1+vd666Bl6yFNNzhbfQbNjOFBJN4vQHXq/J0IDERw9LNz1mn8aNS+1ho/GvKJ7Lnzo2VnfID7jwan4G4huw9QZbdCZzKB/mW3sganBsvBzHzQPdzREIGjdmI1EaCiZs7cfWaCB3WjD3D/XNXhzuGFQnN38EykO2So04HS3tJrBrgrF4pBt4CGCALBSsEFKEZwZwODRpRHsjsxMLHDJkaCLA13wtTFFTG3navsVopvi4a8TrVvk9QA7IE5OusI7rWvNXFFBEuwuCLiAICxFrL7rws+ZOY3wVF/Zr44gjubdD7AfSurc3eOtNQ03KErmWcZw3qFzqosLot+IIkf7oU3hezzLOmDcqlkt7K0Ezz4r9pmU2HPysxnI7izSecD3DdSOtytNp8x9MYA92nhQrQrBY0tQ2sz/+SEu3QkJdeTRtF8gFKPU8SvFZIh5l95nxKIZ3QR3NlU8gHu44yn6LbHfrZhqSoIAmM9SqSa2FLM81U8J9yL74rEf7X7r5t+kgaDSGO/QbxVu+c4bSK/f6UtiRxdEMGdTS6v4f4/TWfty1w5cWjuzuaIzZ+6o7kgCJ7bXznhnn2eBS6Oo1dHyWLFZbH5s9n+08bfJViNjODuRwYs9kSiIaKlPkEQPGcKth0I/wVew/1fV4c7n9sDDXe2fzPtCe3M857DuMMJ99JOCRJHYkvqip57XxCEzLMM4e5gcspt5+Y591pfI6miyYxGcDdPASGOR04EF2OTKtPNnfSDhruN9XiASF9zLzwGEyfc5RM5sZYAGCkXCpifoVfJdd3LD1yd5qmLxD2xyksewZ3AjFQIhDyCuwthhqg7SOcMFRIRk9nMGE65/MkJdzRE5Y/l9JO0PEp4bfAAiT+IV3YrID3jfeI5virur2kdtOjvDL3DUQR3M3m9hvsQoWV9cw6y6ZL5qeQIzd1tnQUIN808CwzuaOTImlxPisuiuCwm15OFNwUaZHidatbe+AB96UgiUcyQ2Q9niXqgbwgjCEL1S7W+V48KTQEf4P5o7A55oRBYT6vQcLfl7iQlvueSMT93JwPR+hrRSHbOOiQrORBUXBEruxWf+Gvrd4tE/cDjko+SoNSi4U5PbVQ3U8AjqypJG3YqE3BMq9BwZ0c60/s6sMN7pz2LcXwGuBtaI27ANFnFFbH4ttj63fIE9+qV2thvGN6r2FKs+LZI2o/gTtOfXfcI7i/G2xZw7IBMw50dr0Vf6bkrgUu4Kxc48x4EeTR/Ni0XjplnmeqXKsOwYHh/4Gfvttf63SrtlAwoB+ml9L5kiIKL4M6GOH3WI7gTnxmOXcNpELP17nRi2GnZiS0Rw3PQDdzVaxWCcWh9Uet3i6w0aBJDlv7URgq7HrwpVD5VwMlZPpGlQ6n5s1n7VqvsVko7pcLrgkFiIe1gScm0kQYMs/KpUv5QjgoPBTyC+6eKrnp36BEpLovTVqu9mx7RP/hhwZkZ7iRbauZZhojy5AWTT+XKboVeUBLIzlARl8XsVrb2rWZ+EHliVOGngEdw36vrcGfusQbdork7bH5GxFDSb2xDealvtykIgh8RQzPCneTC3rDJhQ0ySfFt0TKKhwH92FIss5mp7FZA9UloElXcU8AjuB+MN8Ue29UZPTPAHfJY0LIKdk0Z5bcATBBbPaPNGU7NBncwZCbWnO10oF6reFezI6nxo1H9XC3tlPIv85nRtpuFN4Xyh3L1S7Wx32gdtOQTOWLkM8wm5y0ewf1a1bn7UsxRrCokKgJYxx/Es1tZAy/Elkt/YhlngHtoE4lxTnZ0mUdwHyJEfIDtjIs0d1evVbPjB/nQZzYz0yR79zPnFO7gKRDONJHuqfEfacE7uL8v6QzeLveveqVmNjNQQGpv/mrS0gvsmcHWUbqfHkdwB492QRCIj7v7DkQtzJ8CLLjXv9eJ0599z0hmd6e7fYyN7b3bXve8q1wo8xFeO387nEkJyX6rfqyY7Qk7pk90pXsKsOAun8oOdqohjmJCjCfIw33XXbbQ+NHgsdTKJzJkUHK8QVUE0/BRgAV3ra/hvXLGMcj28Ho23jeYw7Zq35rPxCrtlGyjS7vnXbBZztO5N3DK3OMOsOCOhii7lSWha/ZU2B0bm4LLQmHfydFbBPvwsB3UyFZk+ZfBBKFyjiW6jJ8CNnAHzxDbndP05x2Pt1Pd8CVRN/+obK/MvchVPrE2Zurd9sBlBfvZ83/ffP4i2Y4ruoBNARu442jIb7X0kzQX4geU47s/ynL2YDjPVnYreJE6HcQkj3vqcWo+62bOnkeXuaSAPdzRENW/1+MP41jSnQ4RvR8k4cxe3WXP/Li9e47ttbntHMt0NUCQsTZsu3T4QZD/WptccEdDpFzgXELiiph+mi7tlMofy5alta17AvcexC0vCOpgbjuXWMUbQtkqEwtvCoIgxB/G2ZL9fw0o92O8OtzBg48dbIEHPEA4iet+o/qlallqn6skkK/5rkhfU/tsfQt9jU/12readCTxGGjLH8vgVk778NyPmY5GgYZIhztY8r0xZBLzqmFv9VCKNzQIYJ+g2FIs2ATWdJeiurcU0OFe/oC5mrNtJadpIc7HaWeWYuhmnFTsQkE+bIjsIS1ICqfmz6aHzUZNhYoCOtzlUxmCbsyu57N0l9ibvo6T94JD/P+0WVqb9l55d5zsmOXAyODd08NJk3vZKx3uYFGCYIv2cVu9VtWrcblW1Wu1d9PD5RYXCMjHGroBluYt6PKzqbuLkbxisIS1c5a0aMpvVA30LQlw1orP1QA64PcAo/YpCkzgPi0xFXHH5anElmLishhfFntCDBCfXxETD+NQr41SpCcfJXFZxyW1kUo9xiX9JI3LU1wyzzK4bGayz7O4bOGS287h8gKX/Mt8/hUuhdcFXN7gUnxbLL7DpbRTwuU9Lnr84sdy5VMFl907Jf8qT+Ka/ds3IXqFwkOBCdxxnwao+qWafJQEnZ2+lftqIrGaiD+M4/IAF3FFxGVZjC3FDNmFyCtRG8O9JcSy43pbiJELwlNJbaRwmBzFA6L6faXAXbi7n/IB0kWdvx1dnlmKaa8Len1ZVC8VBcpo45fuv273HJfO3w4uZ7jIpzIuJ3L7uI3LH1ykIwmXQ6l10MLlNy7NX01cfuLS+NFo7OMC+5lBHqnatxouX2u6ivNztfq5Snh8/Xs9Uq7fV2RbjssLuP/toDcFtN9Ahl3AN8cOkg90YQaD/qxj2Y/oYESBOVDAC7gPETpu69aljRT6WMY/Bwj9Gi9Yx8IMhrs/Gy3NgVLRI+4BBTyCO414APeyiF7kEM3XhRhaiqHImda9xBi1MCsFvIO7GfE0Uyf1h/F7wCSiISwoBTyFOyfiL+2zBC8oNaNuh5wCXsOdB/GRlX7Wb3HIwRT+7vkAd1vEcyTWCz/hoh4uIgX8gTsb8cSzIGJyEQXmSwHf4D5E6EQmvu+6mYksWDm2X11E5hH1OeQUsIL7ALWP2/W9Os44PnJHmfnf6ji4yQD3+nOc6TzYUnxbxE41H8vVz9WFDuZQLhRsnI4KBwXuwn2Aqp+rZLM7T9xaMkJMI0x9XKmFz3km/STtdJuNkHAy4uXmyXzd70buwL34tgijTW2kIOsQdkRxXaRPFWxgGmMdCbHeWsJ9s25b2G/U9+q1r7XS+xJsOyMui4uYAjKCO/8rOoF7+7gNYZo2W/vOtrYwy/H9MIV6DBAksxYEwTa1WEiYOulGBPdZ4J59nhUEwUe37xP5Do8/ntOmuwQWtpXqlyoQrvW7ZXtxeC6g4a6HEGykcCBBVEYUoF+GCXcHkZ2VgGU2vk7fdSJPRJovYQwdqn2tCYIQW4otkAc8DXdvYi/pKVv8ujXc4SgP09L62sRDHfzUuf9VfjSAx2ubGd3HnfteN9fz+7WX3pdwnpkH8e6/Lg81Ar8mgjt7Cizgrl6pgiAkVhOMO5ULpfi2mNpIicsiCbqD0DtH/xbX8RbbmhBLj8L2HN0788WJtYS4ImY28Uan1vG1FBuDXdDwBkwhTv1HZiqCOyGFZcUC7p2zDmwJZnkDzpu3h/Pm4U1xzzq2cJnWyOQ4rFzP58o+ezc96UjKv8ynHqfYOketr0GeqYXIERnBfYIrimeRgxZwh8Qb0zYvKLwpZJ9nubKiWj2PPPhO5URGAfmKtX63EquJNjMtQu+2BxthZ7eyHrze/GRxfmUE9zu4MhHQGdxhM2hfpjw4XaR8IifWEuzsvnjzptWEIAg8m3ywKe7r2QjubPI6gHvvphd/GF9oG/s0WpTel2x3nur87cDO3exk8NMeMZ/jEdzZdHYA9+bPZsGQ6tH0sWA/LLRne7c9cdl+K572nzYkF7FNHRzUSCO4synvAO7lD+V7nEcuuZ7sciyXGz8aQLJwuhhEcPcM7pnNzAIZXNjDNp8tvC40fjTMx81HyB7CIZTrIrib54s+4oC7Jx8lPVbIhEkWwt6/3Mbd4jvsP4e3OQhZrG0Edxrc5roDuCfWEmGbXfN4Zj7iCO5oON7EZj3JszPCzL1yeuN84I6tFodSfa9e/Vyt79Vbv1v8hmp9RAPUPe+2Dlq1rzXcwkFrPmSM4K5nLXYKd7JFWfppmq3EdApZN9f7DXfpSMpsZmjQkHryUZJzBd86aMFOhuRe8E3Kv8r7zU/pJ+ouYtPMTBF3NwCxd9NLPkoKgpB7kTOcCuqnj3AfIBDhaMSY69mtLNs1DfaGMd8IR8QVf8MM6OdGcHfsmAl7zQqCEJKttP2DOwn3AcRknmVKO6Xat1r5QxncxQmSGJ87EkgA+2XktnPVz9XiuyJwDR3xy6J/OgDSSUEQIrg7hjsa4v3YxGUR74DAvdL1j/f7BPfWQYsAJbGaMCth5VMZ/CzgMktLHNkWBXbKMLjcgb4Lbk8+SvpiuR8iMooI7g40Mwa8SocS0NGb/dtcKKx8gjsN5Wkedeq1Sp4eW4qZRZrU45SO5vWk+SxsUk3gyLkMMEyE7U/SfgT32eEOuyvDesuXcEfuF4AAThAES0jZAsJ8Qfe8S1BS/lA2X0CO1L/XyZWGKDDpSOcIgiAYTpHb0RCln6ahhdRGij7uVZ10LxxwHyD5VK5+qZZ2SvlX+dyLXOFNofyh3PzV9FtR5VQzY56AyqcKiKSOtXLcaDY/1HDED7jTIGa/zPSLUdmt0H2DDZkhVoY+bqiTPQ8FQfAjpCYscNf6WvVLFbIA0H0i9dhSrPiu6BXHMlAZDZF7uKMhKrzGu2xnn2fN7c/niB9wr32tkfwrBoHbMKjebY/MV+l9iT5LNI/5V3n6uKEOoUXQiB+h0qR7QXJ39Volgh3dIXM9tZHyScntCO69m17rd6uyW2n8aNCqYq2vwRsb1IasfsCdIJKNdTRE8gneohT+6K0LezeT16Bmt4cFebX88LUe9w7/H5hmJv1El9gEQUg+Sta+1qRDST6VpSNsujPYNXxyU+OHe+t3K/4wnnuRq3yqFN4UcGAXtSslfI6xbsE7EYW/KV/hbtuNyi4W5+CP1t7cEdwPbDI7QOwYO57OtifTLhj3Dv8fDNxp0TA/ZT+P1u+JIswnJHHCvX3cTqwlaN/J3k1PD3sd4xvc4m154bQpcXM8QLj3bnowcMhQRH+EaYl8mmKHjBoEQlspn1zvqBI83MnbHH8Yp2lkGAZZ6wiC4AeSOOGe2khJRxL0DTZSRkOkXmEdHFlXgNmFoX8wDM3DnwHCnbZDlT/eUeDU9yYaG1r2sxw4bYqyvMDNwaDhPkCZzQzIu/xKLj9UHzxw1/oajgIZc/HsVjb5KAnsKrOZIQGv5Q/loKxOhL96qIgk42VUSBYqyGFB3ny4hTYh2bIqoB7gksH+GJ1hnAoa7mPowA6sjI4SU44gCH4YmXngji0p4/2kQO0IH+7GfiP3ItcaS6XA5zi95xlDdnqKJtE84U5CXvQsVKfGfTtQ7GEAAAh7SURBVJjLH/H7D3+GN8E8RkJYPISbnvkCN0fGvcD/ByO72/ZevVabv5q5FznSVz+iTHjgjoaI+Li3Dlo0KxWXRaInhrU1W0VtO2qnF9DLRE5gOX2E5fXNn016t3TLl5xm2BHcdRdcoKZyqUhHUu1brfiumNnMELUUwbogCAHCvfa1ln2ehY+scqHQ+tP0k7RyqeCw1xXsQqMaNlIef8csQePmYO+2l9ue8AJCKFtguXko3EtLKYIgWGIdDRH9KtoybPpT4LnnDCFOwNxduVRK70s0v6R7ZqgHCHewJaU2Uo0fDflUbv5s0i9kbCkGL8DcXILbf9q0OyHNaP2F+wDRa1MG1rEzzCjbJkyiLReARIUgJbp/IQ0t0EAKTJihyUF3CGzy2efZ2rda7RtOUAp/wcIdDZF0KBXeFNJP0vmX+fr3ev17ncaZIAj5V3nbeTXMhNOf0qFEPEyALJVPlfloZrS+lt3COaLhD+fCH2urLEfR2Nfj2XlcA8hbRJZJlm3OdnDcZfx/MHCnFzrwTmefZyu7FelQopVWtA9q4HA307pz1jGAD7we6CGY75rtSPNXkxaigCnAQnkOcFev7pjAeVIPtf/g7QLgj+ivpo2deM/74SU27gX+PwC4d/9NvO1iSzFsMR3cEeUJUei3wo9VIOdSlfTHUCGxfGZ5LLWRKn8o4z5PGZqhKeufo02yKrsV4nwCMxdbipV2SuRL4jfcu+ddWnhLrnNF69OeMLaevWSAfiQ1ChjutNaJ7U1Br4psOYQ1YpiLRVdwH4wjtR/hSO32cdvg+ABUFlfE3Itc/Xu9e97lEqzH/qHZ51mIIKFnS1wRyx/LBjW2r3Dv/O3Q7WeeZWzXnWQiCBcwuI6RC6Ci9TUyRj+8RUjjwXB3SCcNnWB/92kAsSVFAwU5f7qBO1h8iY4Sntg+bue2cwaZniZ3bCmWfJTMPMvkX+ZLO6XSe7y3YW47l3mWSa4naWDRd4F1vfq5avnC0HdZXsBJDfNl3X9d2l81/zLvyAZEdEepxyxHdtp04Id1haZkAMIMHahLvshmWtM+RoIg0O5H5otnOzIz3EFxJq6Ilt4gWl+TDqXSTonWn9BE568n15OlnVLrd4uBM5/grvU1uv8zBOZyus0Q9oe3F3Aj+035ktPUDgDutE6G9iukISufyjRfEQTBjxi52eAO+qLYUoxHvlIulPpePfcil3qconFJz4GhnlxPFt8Vm7+aBqGFpg9dp5v1kLsTty2cA3mmPKGQhRNGh+MBrKB8x3/Yn8BfmrwBwL3zF2+dQP6qn6s06+r+65bel8zygB9S3QxwJ7HGs71+Wl9TLhX5VG79btX36vW9evNnUzrCns/KhcIvFvsNdxqFiVXsDapcKrbF3H969ZXbztETjYZ4t2qyPhFXRMNZeoxu6gRpwcjuaIg3K6Y7gX2M1hIG/hd/GJeOpMQazrA+M4Nhk8kp3Ek2YPYKm/1Qz8/6wd2J2G2YJvZPc3AGlojWcVoe+EttpKqfq/KJ3PzVLL4t0kzNP2fS8cPx/wFwd5jv8scyPVq6T7CDAHzKSVofP95+R3AnyTYMnq6ew9dpg37AnTE1hpmif5rhjoYI7wox5ln0xXTdV/ZBP8gG7r6mRAUnAuxSu54UV8TEWgJiJmhf387fTmW3AoWtxnGKEkexqiSVkuWMzvBoD2/xHO7KhUJDhL8+jTi9mx4dukA3iGMJDvVYAg9pQjdFP84G7tnnWT/MmXRvAqwXXhd4AkzVaxV0FLntnOV6K8AhYIfNB3Eyo54sVXu32IwwQyH+oZYEUS6V2tcaKF4LbwrVz1W/gQ7dIMSxF2bKH8q+fmgs6TK3g8lH9tsZaH0NrPeMvHBz67DlgzyHu+VTFvegA7g3fzXZWRMWlwr6ZjVTlLX6uAYI3DmSIUtyTZM9gjtNDXPdAdx7t73EakI2xaqYG124I9iouXMnL4p5CGARS6wmGOYw811zPhLBnU1wB3AHx1f/Mr2wO+rf2fZxO7meZCt6IV5YXBHpHAT+dWnmliO4s0nnDO5oiEo7pfTTNHshwn5kqM429hvxh3H2EhwsA7GlGPuyMIwrgjt7FhzDHQ0RQKSyW5FPZTZTZD87wLPqtSodSrntXPpJms2wSWgCibwOsNu2j47gziaRBdw7Z9iwP22TeGhOvVJL7zGbF5fF5KNkcn2RSmI1gdOAbecY7vUwTOKgV/9eZ9MxJGcjuLMnwgLuYFngTdY1QMqF0v3XXaDC6W4ln8jgxWFIZssmaLBnI7iz6W8Bd3Cxp/MHsZu4l2e7512Aju3m8aEafgR39nRYwB0NEQRo+REjx+5NSM4SN4FpOStD0k9zNyK4m2lCH7GGO+RAyzzLLOhKlB6h0zoOxxy5MWW3rN2ynTY4z+tpuHfOOgskYc6nq9ZwJ3nKE2uJ2rcazi0xcsjG/47yTDT2G40fuDR/NnH51Wz9buFygIt0KOFyJLX/tHEZOV3IJ7J8ikvnrIPL3073vIvLSO5XLnQXavVKxeUal95ND9KOQko9/O4NkH+eKuq1Wt+rg7y+oK86DXd6aqO6mQK6ixhwo+55l067br46DEdiS7HYUkxcFnFZwSX+IB5/iEtiNYHLWgIrjsa6o9RGKvUYl/STNC5Px+VJmnbFLr4rLuhnLYI7PyzvwB1A39hvgIG99B7HDuMysrcX3xWLb3EpvCng8rqQf5XH5SUuuRc5XLZz2a0sLs9xyWxmMs9w0UH2JA3IwxDcSGFV5giXiTWMUQArBu4DXADK4rII+OYfkqMrxWUxu5VdCP36NAEpgjv/jFvAfRpZw3J8JNsQUUfra1j4ucEFxCH1StXDzC4UXWE6kqA6f7E0pYtVY8lqQTk6PRfpp2lgH9G/thRYQLizfRijsxEFplPg/wEZz+BqU0QTzwAAAABJRU5ErkJggg==)"
      ],
      "metadata": {
        "id": "6wKRH5fJi1-T"
      }
    },
    {
      "cell_type": "markdown",
      "source": [
        "![purple-divider](https://user-images.githubusercontent.com/7065401/52071927-c1cd7100-2562-11e9-908a-dde91ba14e59.png)\n",
        "\n",
        "Las variables en Python no guardan los datos, sino que son simples nombres para **poder hacer referencia a esos objetos**.  \n"
      ],
      "metadata": {
        "id": "wB-jrp5ni5dW"
      }
    },
    {
      "cell_type": "markdown",
      "source": [
        "![purple-divider](https://user-images.githubusercontent.com/7065401/52071927-c1cd7100-2562-11e9-908a-dde91ba14e59.png)\n",
        "\n",
        "En Python, si escribimos la instrucción: a = 2.\n",
        "Se crea el objeto \"2\". Ese objeto tendrá un identificador único que se asigna en el momento de la creación y se conserva a lo largo del programa. En este caso, el objeto creado será de tipo número entero y guardará el valor 2.\n",
        "Se asocia el nombre al objeto número entero 2 creado.\n"
      ],
      "metadata": {
        "id": "W3tsEUr3kF0n"
      }
    },
    {
      "cell_type": "markdown",
      "source": [
        "![purple-divider](https://user-images.githubusercontent.com/7065401/52071927-c1cd7100-2562-11e9-908a-dde91ba14e59.png)\n",
        "\n",
        "### Como definir variables en Python"
      ],
      "metadata": {
        "id": "jwDmUSUMkIbX"
      }
    },
    {
      "cell_type": "markdown",
      "source": [
        "1. Siempre se escribe a la izquierda de la igualdad, de lo contrario, Python generará un mensaje de error:"
      ],
      "metadata": {
        "id": "W63Wdaw2nDWh"
      }
    },
    {
      "cell_type": "code",
      "source": [
        "nombre = \"Juan\"\n",
        "edad = 23\n"
      ],
      "metadata": {
        "id": "Y8DC4B5fnFN3"
      },
      "execution_count": null,
      "outputs": []
    },
    {
      "cell_type": "code",
      "source": [
        "edad"
      ],
      "metadata": {
        "id": "9afz7UyzlrjO"
      },
      "execution_count": null,
      "outputs": []
    },
    {
      "cell_type": "code",
      "source": [
        "23 = edad"
      ],
      "metadata": {
        "id": "_5B15RfXM7P_"
      },
      "execution_count": null,
      "outputs": []
    },
    {
      "cell_type": "markdown",
      "source": [
        "Definir la variable antes de usarla"
      ],
      "metadata": {
        "id": "AVuFbavomfwB"
      }
    },
    {
      "cell_type": "code",
      "source": [
        "y = 0.5\n",
        "print(y)"
      ],
      "metadata": {
        "id": "XtwpBLCDlHY9"
      },
      "execution_count": null,
      "outputs": []
    },
    {
      "cell_type": "markdown",
      "source": [
        "2. El nombre de una variable no puede incluir espacios en blanco"
      ],
      "metadata": {
        "id": "hAnXmAM2ozcp"
      }
    },
    {
      "cell_type": "code",
      "source": [
        "Nombrecliente = \"Juan\"\n",
        "Nombrecliente"
      ],
      "metadata": {
        "id": "ronRRfwLo24O"
      },
      "execution_count": null,
      "outputs": []
    },
    {
      "cell_type": "markdown",
      "source": [
        "3. Los nombres de las variables pueden contener mayúsculas, pero tene en cuenta que Python distingue entre mayúsculas y minúsculas (en inglés se dice que Python es case-sensitive)."
      ],
      "metadata": {
        "id": "dhALt36PpEj6"
      }
    },
    {
      "cell_type": "code",
      "source": [
        "Nombre = \"Pepe\"\n",
        "nombre = \"Juan\"\n",
        "\n",
        "print(Nombre)\n",
        "print(nombre)"
      ],
      "metadata": {
        "id": "PsO8Y9FJm6Af"
      },
      "execution_count": null,
      "outputs": []
    },
    {
      "cell_type": "markdown",
      "source": [
        "4. En cadenas de texto: Si no ponemos comillas para asignar un string, python entiende que hacemos referencia a otra variable"
      ],
      "metadata": {
        "id": "U5kVPR9Vn5L1"
      }
    },
    {
      "cell_type": "code",
      "source": [
        "Pablo = \"Juan\"\n",
        "nombre = Pablo\n",
        "print(nombre)"
      ],
      "metadata": {
        "id": "bVM-oGqfnyuo"
      },
      "execution_count": null,
      "outputs": []
    },
    {
      "cell_type": "code",
      "source": [
        "edad = 25\n",
        "nombre = \"Juan\"\n",
        "\n",
        "edad_doble = edad * 2\n",
        "print(edad_doble)\n",
        "print(nombre)"
      ],
      "metadata": {
        "id": "dp5q2bDqO7Q9"
      },
      "execution_count": null,
      "outputs": []
    },
    {
      "cell_type": "code",
      "source": [
        "pablo = \"pablo\"\n",
        "nombre = pablo\n",
        "print(nombre)"
      ],
      "metadata": {
        "id": "oTQ0vovSQc-5"
      },
      "execution_count": null,
      "outputs": []
    },
    {
      "cell_type": "code",
      "source": [
        "numero1_str = \"5\"\n",
        "numero1_str"
      ],
      "metadata": {
        "id": "BGgPSSU2Jq__"
      },
      "execution_count": null,
      "outputs": []
    },
    {
      "cell_type": "code",
      "source": [
        "numero1 = int(numero1_str)\n",
        "numero1"
      ],
      "metadata": {
        "id": "MRPIWTIqJwyP"
      },
      "execution_count": null,
      "outputs": []
    },
    {
      "cell_type": "markdown",
      "source": [
        "**Importante!!**\n",
        "Aunque no es obligatorio, se recomienda que el nombre de la variable esté relacionado con la información que se almacena en ella **para que sea más fácil entender el programa.**"
      ],
      "metadata": {
        "id": "FVgfaMKooffr"
      }
    },
    {
      "cell_type": "markdown",
      "source": [
        "## Ingreso de datos por teclado **input**\n",
        "\n",
        "![green-divider](https://user-images.githubusercontent.com/7065401/52071924-c003ad80-2562-11e9-8297-1c6595f8a7ff.png)"
      ],
      "metadata": {
        "id": "NjhVX-ajp5o7"
      }
    },
    {
      "cell_type": "markdown",
      "source": [
        "Python tiene una función llamada input() la cual permite obtener texto escrito por teclado. Al llegar a la función, el programa se detiene esperando que se escriba algo y se pulse la tecla **Intro**."
      ],
      "metadata": {
        "id": "JG6s0DSRqIhs"
      }
    },
    {
      "cell_type": "code",
      "source": [
        "print(\"Ingresar su nombre: \")\n",
        "nombre = input()\n",
        "print(nombre)\n",
        "print(type(nombre))"
      ],
      "metadata": {
        "id": "_g3OI9VLqBeT"
      },
      "execution_count": null,
      "outputs": []
    },
    {
      "cell_type": "code",
      "source": [
        "nombre = input(\"ingrese su nombre  \")\n",
        "print(nombre)\n",
        "type(nombre)"
      ],
      "metadata": {
        "id": "nz_UsFQXVLfM"
      },
      "execution_count": null,
      "outputs": []
    },
    {
      "cell_type": "code",
      "source": [
        "\n",
        "altura = float(input(\"Altura: \"))\n",
        "\n",
        "\n",
        "print(altura)\n",
        "print(type(altura))"
      ],
      "metadata": {
        "id": "zURKKswRVV49"
      },
      "execution_count": null,
      "outputs": []
    },
    {
      "cell_type": "markdown",
      "source": [
        "Se le puede enviar un argumento que se escribe en la pantalla"
      ],
      "metadata": {
        "id": "u42_YEPyqhUM"
      }
    },
    {
      "cell_type": "code",
      "source": [
        "nombre = input(\"Ingrese su nombre: \")\n",
        "print(nombre)"
      ],
      "metadata": {
        "id": "rVHAWts3qyx-"
      },
      "execution_count": null,
      "outputs": []
    },
    {
      "cell_type": "markdown",
      "source": [
        "Conversion de tipos"
      ],
      "metadata": {
        "id": "ap9DZ216q9Hn"
      }
    },
    {
      "cell_type": "code",
      "source": [
        "edad = int(input(\"Edad: \"))\n",
        "\n",
        "print(edad)"
      ],
      "metadata": {
        "id": "3LUEY8tuq8s4"
      },
      "execution_count": null,
      "outputs": []
    },
    {
      "cell_type": "markdown",
      "source": [
        "## Operaciones aritméticas con variables\n",
        "\n",
        "![green-divider](https://user-images.githubusercontent.com/7065401/52071924-c003ad80-2562-11e9-8297-1c6595f8a7ff.png)"
      ],
      "metadata": {
        "id": "PMnzJGdcrhGm"
      }
    },
    {
      "cell_type": "markdown",
      "source": [
        "1. Suma\n",
        "2. Resta\n",
        "3. Multiplicacion\n",
        "4. Division"
      ],
      "metadata": {
        "id": "GImmBeqEr8KR"
      }
    },
    {
      "cell_type": "code",
      "source": [
        "var1 = 10\n",
        "var2 = 20\n",
        "\n",
        "var1 + var2"
      ],
      "metadata": {
        "id": "vr-TljCBr1b8"
      },
      "execution_count": null,
      "outputs": []
    },
    {
      "cell_type": "code",
      "source": [
        "var3 = var2 - var1"
      ],
      "metadata": {
        "id": "MeXe2oXuX2R5"
      },
      "execution_count": null,
      "outputs": []
    },
    {
      "cell_type": "code",
      "source": [
        "var2 * var1"
      ],
      "metadata": {
        "id": "0F7rguDUX59f"
      },
      "execution_count": null,
      "outputs": []
    },
    {
      "cell_type": "markdown",
      "source": [
        "Concatenacion o suma de strings"
      ],
      "metadata": {
        "id": "eXZu7ryvsEaz"
      }
    },
    {
      "cell_type": "code",
      "source": [
        "frase1 = \"Hola\"\n",
        "frase2 = \"mundo\"\n",
        "\n",
        "frase1 + \" \" + frase2\n",
        "\n",
        "frase = frase1 + \" \" + frase2\n",
        "print(frase)\n",
        "\n",
        "frase = frase1 * 2\n",
        "print(frase)\n",
        "\n",
        "frase = frase1 + frase2\n",
        "print(frase)"
      ],
      "metadata": {
        "id": "4lOfOLBtsVYX"
      },
      "execution_count": null,
      "outputs": []
    },
    {
      "cell_type": "markdown",
      "source": [
        "## Strings\n",
        "\n",
        "![green-divider](https://user-images.githubusercontent.com/7065401/52071924-c003ad80-2562-11e9-8297-1c6595f8a7ff.png)"
      ],
      "metadata": {
        "id": "iFEUjMMjshIE"
      }
    },
    {
      "cell_type": "markdown",
      "source": [
        "## Indexación de strings\n",
        "\n",
        "Cada uno de los caracteres de una cadena (incluidos los espacios) tiene asignado un índice. Este índice nos permite seleccionar su carácter asociado haciendo referencia a él entre corchetes ([]) en el nombre de la variable que almacena la cadena.\n",
        "\n"
      ],
      "metadata": {
        "id": "x05NwyC5skPr"
      }
    },
    {
      "cell_type": "code",
      "source": [
        " # frase = \"Hola\"\n",
        " #          0123\n",
        " #        -4    -1\n",
        "\n",
        "frase = \"Hola\""
      ],
      "metadata": {
        "id": "PgUAS0BVsyLI"
      },
      "execution_count": null,
      "outputs": []
    },
    {
      "cell_type": "code",
      "source": [
        "frase"
      ],
      "metadata": {
        "id": "MGb4BTgEnYH5"
      },
      "execution_count": null,
      "outputs": []
    },
    {
      "cell_type": "code",
      "source": [
        "frase[0]"
      ],
      "metadata": {
        "id": "DxJI9RiqnZye"
      },
      "execution_count": null,
      "outputs": []
    },
    {
      "cell_type": "code",
      "source": [
        "frase[-4]"
      ],
      "metadata": {
        "id": "Tpqruk1GKmHc"
      },
      "execution_count": null,
      "outputs": []
    },
    {
      "cell_type": "markdown",
      "source": [
        "## Longitud de un string"
      ],
      "metadata": {
        "id": "F1QzVhl2tV9b"
      }
    },
    {
      "cell_type": "code",
      "source": [
        "var = \"Hola\"\n",
        "\n",
        "len(var)"
      ],
      "metadata": {
        "id": "lWyUiOJQtrfU"
      },
      "execution_count": null,
      "outputs": []
    },
    {
      "cell_type": "code",
      "source": [
        "len(\"Hola!!!!!\")"
      ],
      "metadata": {
        "id": "JB5e2Wnyn7-q"
      },
      "execution_count": null,
      "outputs": []
    },
    {
      "cell_type": "markdown",
      "source": [
        "## Slicing"
      ],
      "metadata": {
        "id": "McsKyxewtwL_"
      }
    },
    {
      "cell_type": "markdown",
      "source": [
        "Otra función de las cadenas que podemos usar, es seleccionar solamente una parte de las cadenas.\n",
        "Para ello se usa la notación [inicio:fin:paso] también en el nombre de la variable que almacena la cadena.\n",
        "\n",
        "* inicio: Es el índice del primer carácter de la porción de la cadena que queremos seleccionar.\n",
        "\n",
        "* fin: Es el índice del último carácter no incluido de la porción de la cadena que queremos seleccionar.\n",
        "\n",
        "* paso: Indica cada cuantos caracteres seleccionamos entre las posiciones de inicio y fin."
      ],
      "metadata": {
        "id": "hZ1tUiEvt8P3"
      }
    },
    {
      "cell_type": "code",
      "source": [
        "numeros = \"0123456789\"\n",
        "#          012345678\n",
        "\n",
        "numeros[1:8]"
      ],
      "metadata": {
        "id": "1cUhZJrvt6Ls"
      },
      "execution_count": null,
      "outputs": []
    },
    {
      "cell_type": "code",
      "source": [
        "numeros[:5]"
      ],
      "metadata": {
        "id": "3y1iB-YJaX-3"
      },
      "execution_count": null,
      "outputs": []
    },
    {
      "cell_type": "code",
      "source": [
        "numeros[::-1]"
      ],
      "metadata": {
        "id": "1yqXAFwWafNx"
      },
      "execution_count": null,
      "outputs": []
    },
    {
      "cell_type": "markdown",
      "source": [
        "## Modificar un string"
      ],
      "metadata": {
        "id": "9rwF-AcFvMPm"
      }
    },
    {
      "cell_type": "code",
      "source": [
        "frase1 = \"python\"\n",
        "\n",
        "print(frase1[1])\n",
        "\n",
        "# print(id(frase1))\n",
        "#\"frase1 = \"python\"\n",
        "#print(id(frase1))"
      ],
      "metadata": {
        "id": "3TBolh8JvS2D"
      },
      "execution_count": null,
      "outputs": []
    },
    {
      "cell_type": "code",
      "source": [
        "frase = \"aeiou\"\n",
        "print(frase)\n",
        "print(id(frase))\n",
        "\n",
        "frase = frase.replace(\"a\",\"A\")\n",
        "print(frase)\n",
        "print(id(frase))"
      ],
      "metadata": {
        "id": "Wb9rUTVLdEpH"
      },
      "execution_count": null,
      "outputs": []
    },
    {
      "cell_type": "code",
      "source": [
        "frase = \"Hola\"\n",
        "frase"
      ],
      "metadata": {
        "id": "i9PcQQU1UjV4"
      },
      "execution_count": null,
      "outputs": []
    },
    {
      "cell_type": "code",
      "source": [
        "frase[0]"
      ],
      "metadata": {
        "id": "7MLgoOn-K4NO"
      },
      "execution_count": null,
      "outputs": []
    },
    {
      "cell_type": "code",
      "source": [
        " frase[0] = \"g\""
      ],
      "metadata": {
        "id": "n-X42XjzUpM_"
      },
      "execution_count": null,
      "outputs": []
    },
    {
      "cell_type": "code",
      "source": [
        "a = 1234\n",
        "type(a)"
      ],
      "metadata": {
        "id": "HVhq_MGud95M"
      },
      "execution_count": null,
      "outputs": []
    },
    {
      "cell_type": "code",
      "source": [
        "frase = \"hola\"\n",
        "frase"
      ],
      "metadata": {
        "id": "TcXwVtQsL578"
      },
      "execution_count": null,
      "outputs": []
    },
    {
      "cell_type": "code",
      "source": [
        "id(frase)"
      ],
      "metadata": {
        "id": "ZsEkeTHeMAMM"
      },
      "execution_count": null,
      "outputs": []
    },
    {
      "cell_type": "code",
      "source": [
        "frase = \"HOLA\""
      ],
      "metadata": {
        "id": "Br5NMe31MCui"
      },
      "execution_count": null,
      "outputs": []
    },
    {
      "cell_type": "code",
      "source": [
        "frase"
      ],
      "metadata": {
        "id": "163UddnyMFIW"
      },
      "execution_count": null,
      "outputs": []
    },
    {
      "cell_type": "code",
      "source": [
        "id(frase)"
      ],
      "metadata": {
        "id": "JHOUEfv7MHI6"
      },
      "execution_count": null,
      "outputs": []
    },
    {
      "cell_type": "code",
      "source": [
        "id(a)"
      ],
      "metadata": {
        "id": "MhtSatIrVVH2"
      },
      "execution_count": null,
      "outputs": []
    },
    {
      "cell_type": "code",
      "source": [
        "a = 5"
      ],
      "metadata": {
        "id": "nvaUFJnLVXGD"
      },
      "execution_count": null,
      "outputs": []
    },
    {
      "cell_type": "code",
      "source": [
        "a"
      ],
      "metadata": {
        "id": "Q7SKjGbEVY2f"
      },
      "execution_count": null,
      "outputs": []
    },
    {
      "cell_type": "code",
      "source": [
        "id(a)"
      ],
      "metadata": {
        "id": "9pUZgrKHVaIh"
      },
      "execution_count": null,
      "outputs": []
    },
    {
      "cell_type": "code",
      "source": [
        "a = 1234\n",
        "id(a)"
      ],
      "metadata": {
        "id": "bcezhm_GVlKM"
      },
      "execution_count": null,
      "outputs": []
    },
    {
      "cell_type": "code",
      "source": [
        "b = a"
      ],
      "metadata": {
        "id": "-iQhzbgPV2ze"
      },
      "execution_count": null,
      "outputs": []
    },
    {
      "cell_type": "code",
      "source": [
        "id(b)"
      ],
      "metadata": {
        "id": "LSKQI2o8V4vy"
      },
      "execution_count": null,
      "outputs": []
    },
    {
      "cell_type": "markdown",
      "source": [
        "### Ejercicios"
      ],
      "metadata": {
        "id": "L8eP0iSV7OkO"
      }
    },
    {
      "cell_type": "markdown",
      "source": [
        "De manera individual desarrollarán un programa que permita calcular el promedio final de puntos de los equipos de fútbol en un torneo.\n",
        "\n",
        "Descripción de la actividad.\n",
        "\n",
        "En nuestro trabajo, nos solicitan desarrollar un programa que permita calcular el promedio final de los equipos de futbol en un torneo.\n",
        "Para ello, debemos considerar tres aspectos:\n",
        "\n",
        "jugaron 20 partidos durante el torneo,\n",
        "los partidos poseen diferente puntaje según el resultado, los partidos ganados 3 puntos, partido empatado 1 punto, partido perdido 0 puntos,\n",
        "el promedio final resulta de la cantidad de puntos totales divididos la cantidad de partidos\n"
      ],
      "metadata": {
        "id": "TrPIwUsN7R_E"
      }
    },
    {
      "cell_type": "code",
      "source": [
        "# promedio = suma_total_puntos / cantidad_partidos\n",
        "\n"
      ],
      "metadata": {
        "id": "t37T73-u7blF"
      },
      "execution_count": null,
      "outputs": []
    },
    {
      "cell_type": "markdown",
      "source": [
        "Dadas cuatro variables con diferentes textos, genera una nueva variable con el siguiente contenido:\n",
        "\n",
        "\n",
        "Objetivo: “Python es un lenguaje de programación versátil”.\n",
        "\n",
        "\n",
        "Partiendo de:\n",
        "cadena_1  = \"versátil”\n",
        "cadena_2  = \"Python”\n",
        "cadena_3  = \"es un lenguaje\"\n",
        " cadena_4  = \"de programación\"\n"
      ],
      "metadata": {
        "id": "Zf5tstbL8fDz"
      }
    },
    {
      "cell_type": "code",
      "source": [],
      "metadata": {
        "id": "un2kkfFD8kVq"
      },
      "execution_count": null,
      "outputs": []
    },
    {
      "cell_type": "code",
      "source": [
        "cadena_5 = cadena_2 + \" \" + cadena_3 + \" \" + cadena_4 + \" \"  + cadena_1 + \" \" + str(cadena_6)\n",
        "cadena_5"
      ],
      "metadata": {
        "id": "1s3rX4SL1Bgs"
      },
      "execution_count": null,
      "outputs": []
    },
    {
      "cell_type": "markdown",
      "source": [
        "Descripción de la actividad.\n",
        "\n",
        "Se tiene una cadena de texto, pero al revés. Al parecer contiene el nombre de un alumno, la nota de un examen y la materia.\n",
        "\n",
        "De forma individual, realiza lo siguiente:\n",
        "\n",
        "1.Dar vuelta la cadena y asignarla a una variable llamada cadena_volteada. Para devolver una cadena dada vuelta se usa el tercer índice negativo con slicing: cadena[::-1].\n",
        "2. Extraer nombre y apellido, almacenarlo en una variable llamada nombre_alumno\n",
        "\n",
        "4. Extraer la nota y almacenarla en una variable llamada nota.\n",
        "5. Extraer la materia y almacenarla en una variable llamada materia.\n",
        "6.  Mostrar por pantalla la siguiente estructura:\n",
        "\n",
        "NOMBRE APELLIDO ha sacado un NOTA en MATERIA\n",
        "\n",
        "Formateando las anteriores variables en una variable llamada:\n",
        "\n",
        "cadena_formateada\n",
        "cadena = \"acitametaM ,5.8 ,otipeP ordeP\"\n",
        "\n"
      ],
      "metadata": {
        "id": "T3b8mbOk8pc-"
      }
    },
    {
      "cell_type": "code",
      "source": [
        "cadena_formateada = \"acitametaM ,5.8 ,otipeP ordeP\""
      ],
      "metadata": {
        "id": "sC884CmIXPb0"
      },
      "execution_count": null,
      "outputs": []
    }
  ]
}